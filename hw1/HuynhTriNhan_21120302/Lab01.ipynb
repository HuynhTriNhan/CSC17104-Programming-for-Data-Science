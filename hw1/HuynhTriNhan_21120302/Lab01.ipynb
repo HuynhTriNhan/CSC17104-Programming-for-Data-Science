{
 "cells": [
  {
   "cell_type": "markdown",
   "metadata": {},
   "source": [
    "# Compare runtime of matrix multiplication program with: C, Python, numpy."
   ]
  },
  {
   "cell_type": "markdown",
   "metadata": {},
   "source": []
  },
  {
   "cell_type": "markdown",
   "metadata": {},
   "source": [
    "Sinh viên thực hiện: Huỳnh Trí Nhân  \n",
    "MSSV: 21120302  \n",
    "Lớp: Lập trình Khoa học dữ liệu 21_21\n",
    "  \n",
    "Ngôn ngữ: Python, C++  \n",
    "Kernel: Python 3.11.3  \n",
    "Công cụ: Jupyter Notebook, Visual Studio Code  \n",
    "\n",
    "# Nội dung bài làm gồm : \n",
    "1. Thư mục datas chứa những dữ liệu ma trận vuông được tạo ngẫu nhiên với kích thước từ (100-> 1000)\n",
    "2. Thư mục results chứa những kết quả chương trình bẳng 3 ngôn ngữ C++, Python, Numpy *(Do kích thước quá lớn nên em xóa những kết quá kích thước lớn từ 300->1000)*\n",
    "3. Thư mục times chứa thời gian chạy của từng phương pháp\n",
    "4. Lab01.ipynb là file báo cáo bằng Jupyter Notebook\n",
    "- Tạo hàm random matrix\n",
    "- Nhân 2 ma trận bằng python\n",
    "- Nhân 2 ma trận bằng numpy\n",
    "- Sơ đồ so sánh thời gian chay của 3 phương pháp\n",
    "- Nhận xét\n",
    "6. matrix_mutiplication_program_with_CPP.cpp là file chương trình bằng C++\n"
   ]
  },
  {
   "cell_type": "code",
   "execution_count": 2,
   "metadata": {},
   "outputs": [],
   "source": [
    "# Các thư viện sử dụng\n",
    "import os\n",
    "import numpy as np\n",
    "import matplotlib.pyplot as plt\n",
    "import time\n",
    "\n",
    "len_matrix = [100,200,300,400,500,600,700,800,900,1000]"
   ]
  },
  {
   "cell_type": "markdown",
   "metadata": {},
   "source": [
    "1. Sinh ma trận ngẫu nhiên và lưu vào thư mục"
   ]
  },
  {
   "cell_type": "code",
   "execution_count": 2,
   "metadata": {},
   "outputs": [],
   "source": [
    "\n",
    "\n",
    "# Tạo ra đường dân thư mục datas nếu nó không tồn tại\n",
    "if not os.path.exists('datas'):\n",
    "    os.makedirs('datas')\n",
    "    \n",
    "for size in len_matrix:\n",
    "    # Tạo ra ma trận ngẫu nhiên kích thước size*size\n",
    "    # Ma trận 1 là số thực trong khoảng từ 0-1\n",
    "    # Ma trận 2 là số nguyên trong khoảng từ 0-100\n",
    "    matrix1 = np.random.rand(size, size)\n",
    "    matrix2 = np.random.randint(low=0, high=100, size=(size, size))\n",
    "    # Lưu ma trận vào file\n",
    "    np.savetxt('datas/matrix_{}_1.txt'.format(size), matrix1, delimiter=',', fmt='%f')\n",
    "    np.savetxt('datas/matrix_{}_2.txt'.format(size), matrix2, delimiter=',', fmt='%f')"
   ]
  },
  {
   "cell_type": "markdown",
   "metadata": {},
   "source": [
    "2. Nhân 2 ma trận với Python và lưu vào thư mục results, times"
   ]
  },
  {
   "cell_type": "code",
   "execution_count": 4,
   "metadata": {},
   "outputs": [],
   "source": [
    "# Tạo thư mục chưa thời gian chạy của thật toán\n",
    "if not os.path.exists('times'):\n",
    "    os.makedirs('times')\n",
    "    \n",
    "# Thư mục results chứa kết quả chạy của các thuật toán\n",
    "if not os.path.exists('results'):\n",
    "    os.makedirs('results')\n",
    "    \n",
    "times_python =[]\n",
    "for size in len_matrix:\n",
    "\n",
    "    # Đọc ma trận từ file\n",
    "    matrix1 = np.loadtxt('datas/matrix_{}_1.txt'.format(size), delimiter=',')\n",
    "    matrix2 = np.loadtxt('datas/matrix_{}_2.txt'.format(size), delimiter=',')\n",
    "    # Thực hiện tính toán\n",
    "    \n",
    "    start = time.time()\n",
    "    # Tạo ma trận kết quả với toàn phần từ 0\n",
    "    result = [[0 for j in range(size)] for i in range(size)]\n",
    "    # Nhân 2 ma trận bằng phương pháp dòng nhân cột truyền thông\n",
    "    for i in range(size):\n",
    "        for j in range(size):\n",
    "            sum = 0\n",
    "            for k in range(size):\n",
    "                sum += matrix1[i][k] * matrix2[k][j]\n",
    "            result[i][j] = sum      \n",
    "              \n",
    "    end = time.time()\n",
    "    \n",
    "    # Lưu kêt quả chạy vào file\n",
    "    elapsed_time = (end - start) * 1000\n",
    "    times_python.append(elapsed_time)\n",
    "    np.savetxt('results/result_{}_python.txt'.format(size), result, delimiter=',', fmt='%f')\n",
    "\n",
    "# Lưu thời gian chạy vào file\n",
    "np.savetxt('times/time_python.txt', times_python, delimiter=',', fmt='%f')"
   ]
  },
  {
   "cell_type": "markdown",
   "metadata": {},
   "source": [
    "3. Nhân 2 ma trận với numpy và lưu vào thư mục results, times"
   ]
  },
  {
   "cell_type": "code",
   "execution_count": 8,
   "metadata": {},
   "outputs": [],
   "source": [
    "# Tạo thư mục chưa thời gian chạy của thật toán\n",
    "if not os.path.exists('times'):\n",
    "    os.makedirs('times')\n",
    "    \n",
    "# Thư mục results chứa kết quả chạy của các thuật toán\n",
    "if not os.path.exists('results'):\n",
    "    os.makedirs('results')\n",
    "    \n",
    "times_numpy =[]\n",
    "\n",
    "\n",
    "for size in len_matrix:\n",
    "    # Đọc ma trận từ file\n",
    "    matrix1 = np.loadtxt('datas/matrix_{}_1.txt'.format(size), delimiter=',')\n",
    "    matrix2 = np.loadtxt('datas/matrix_{}_2.txt'.format(size), delimiter=',')\n",
    "    # Thực hiện tính toán\n",
    "    \n",
    "    start = time.time()\n",
    "    # Nhân 2 ma trận bằng numpy\n",
    "    result = np.dot(matrix1, matrix2)\n",
    "    end = time.time()\n",
    "    elapsed_time = (end - start) * 1000\n",
    "    times_numpy.append(elapsed_time)\n",
    "    np.savetxt('results/result_{}_numpy.txt'.format(size), result, delimiter=',', fmt='%f')\n",
    "\n",
    "# Lưu thời gian chạy vào file\n",
    "np.savetxt('times/time_numpy.txt', times_numpy, delimiter=',', fmt='%f')\n"
   ]
  },
  {
   "cell_type": "markdown",
   "metadata": {},
   "source": [
    "4. Nhân 2 ma trận với C++ và lưu vào thư mục results, times  \n",
    "Được đính kèm tại file: `matrix_mutilplication_program_with_CPP.cpp`"
   ]
  },
  {
   "cell_type": "markdown",
   "metadata": {},
   "source": [
    "5. Vẽ biểu đồ so sánh thời gian chạy của từng chương trình bằng matplotlib"
   ]
  },
  {
   "cell_type": "code",
   "execution_count": 3,
   "metadata": {},
   "outputs": [
    {
     "data": {
      "text/plain": [
       "<matplotlib.legend.Legend at 0x2b59f611e50>"
      ]
     },
     "execution_count": 3,
     "metadata": {},
     "output_type": "execute_result"
    },
    {
     "data": {
      "image/png": "[encoded data removed]",
      "text/plain": [
       "<Figure size 640x480 with 1 Axes>"
      ]
     },
     "metadata": {},
     "output_type": "display_data"
    }
   ],
   "source": [
    "# Đọc thời gian chạy thuật toán trong thư mục times\n",
    "times_python = np.loadtxt('times/time_python.txt', delimiter=',')\n",
    "times_numpy = np.loadtxt('times/time_numpy.txt', delimiter=',')\n",
    "times_cpp = np.loadtxt('times/time_cpp.txt', delimiter=',')\n",
    "\n",
    "# Trục hoành là kích thước ma trận\n",
    "# Trục tung là thời gian chạy milisecond\n",
    "plt.xlabel('Size of square matrix')\n",
    "plt.ylabel('Time (miliseconds)')\n",
    "plt.title('Compare RunTime of running of C++, Python, Numpy')\n",
    "\n",
    "plt.plot(len_matrix, times_python, label='Python', color='red', linestyle='dashed')\n",
    "plt.plot(len_matrix, times_numpy, label='Numpy', color='green')\n",
    "plt.plot(len_matrix, times_cpp, label='C++', color='blue', linestyle='dashed')\n",
    "\n",
    "# Thêm chú thích cho từng đường thẳng\n",
    "plt.legend()\n"
   ]
  },
  {
   "cell_type": "markdown",
   "metadata": {},
   "source": [
    "6. Nhận xét kết quả\n",
    "\n",
    "- Chương trình viết bằng Python **chậm nhất** do python là một ngôn ngữ thông dịch (interpreted language) và được biên dịch tại thời điểm chạy. Nên chương trình chạy chậm hơn so với các ngôn ngữ được biên dịch trước khi chạy như C++.\n",
    "- Numpy **nhanh nhất** vì đây là thư viện tính toán khoa học cho python được viết bằng C và Fortran nên, 2 ngôn ngữ lập trình này có hiệu suất cao. Ngoài ra numpy cũng sử dụng các thư viện tối ưu hóa để thực hiện các phép trình trên ma trận.\n",
    "- Chương trình viết bằng C++ **nhanh hơn** Python nhưng chậm hơn **chậm hơn** Numpy do được biên dịch trước vì đây là ngôn ngữ midle level nên khi chạy được dịch sang mã máy nhanh hơn rồi mới chạy chương trình, nhưng vì phải tự viết các hàm tính toán ma trận như vecto nên có tốc độ xử lý chậm hơn so với numpy."
   ]
  }
 ],
 "metadata": {
  "kernelspec": {
   "display_name": "Python 3",
   "language": "python",
   "name": "python3"
  },
  "language_info": {
   "codemirror_mode": {
    "name": "ipython",
    "version": 3
   },
   "file_extension": ".py",
   "mimetype": "text/x-python",
   "name": "python",
   "nbconvert_exporter": "python",
   "pygments_lexer": "ipython3",
   "version": "3.11.3"
  }
 },
 "nbformat": 4,
 "nbformat_minor": 2
}
