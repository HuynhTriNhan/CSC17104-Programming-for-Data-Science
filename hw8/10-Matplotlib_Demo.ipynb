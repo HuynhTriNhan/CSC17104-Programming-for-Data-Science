{
 "cells": [
  {
   "cell_type": "markdown",
   "metadata": {},
   "source": [
    "# Trực quan hóa dữ liệu với Matplotlib"
   ]
  },
  {
   "cell_type": "code",
   "execution_count": null,
   "metadata": {
    "hide_input": false
   },
   "outputs": [],
   "source": [
    "import matplotlib.pyplot as plt\n",
    "import numpy as np\n",
    "import seaborn as sns\n",
    "import pandas as pd\n",
    "\n",
    "import datetime as dt\n",
    "import math"
   ]
  },
  {
   "cell_type": "markdown",
   "metadata": {},
   "source": [
    "## Mục tiêu của trực quan hóa dữ liệu"
   ]
  },
  {
   "cell_type": "markdown",
   "metadata": {},
   "source": [
    "**Mục tiêu 1: Để giúp bạn hiểu rõ hơn về dữ liệu/kết quả của mình.**\r",
    "- Phần quan trọng trong khám phá dữ liệu (exploratory data)\n",
    "- Tóm tắc các xu hướng một cách trực quan trước khi phân tích sâu hơn\n",
    "\n",
    "**Mục tiêu 2: Truyền đạt kết quả/kết luận cho người khác.**\n",
    "- Tính chỉnh sửa và chọn lọc cao\n",
    "- Cần tinh chỉnh để đạt được mục tiêu truyền đạt.\n",
    "\n",
    "**Lưu ý**:\n",
    "- Visualizations aren't a matter of making \"pretty\" pictures.\r",
    "- We need to do a lot of thinking about what stylistic choices communicate ideas most effective"
   ]
  },
  {
   "cell_type": "markdown",
   "metadata": {},
   "source": [
    "Trực quan hóa gồm hai giai đoạn:\n",
    "- Chọn đúng plot\n",
    "- Tình chỉnh plot phù hợp"
   ]
  },
  {
   "cell_type": "markdown",
   "metadata": {},
   "source": [
    "## Histogram\n",
    "\n",
    "Dùng để trực quan hóa phân bố các giá trị của biến dạng \"numerical\"\n",
    "- **Numerical**\n",
    "- Categorical\n",
    "\n",
    "Histogram gồm:\n",
    "- Phân chia các điểm dữ liệu có giá trị tương tự vào một \"bin\" chung.\r",
    "- Scale các bin sao cho diện tích của mỗi bin bằng tỷ lệ phần trăm của các điểm dữ liệu trong đó\n"
   ]
  },
  {
   "cell_type": "markdown",
   "metadata": {},
   "source": [
    "### Đọc dữ liệu điểm quiz từ file và tiền xử lý"
   ]
  },
  {
   "cell_type": "code",
   "execution_count": null,
   "metadata": {},
   "outputs": [],
   "source": [
    "# Đọc dữ liệu về kết quả làm quiz của lớp\n",
    "# (Code lấy từ file 05-Demo.ipynb)\n",
    "file = open('Data/PythonQuiz2023.csv', 'r',encoding='utf-8-sig')\n",
    "\n",
    "cols = {}\n",
    "first_line_vals = file.readline().rstrip().split(',')\n",
    "for first_line_val in first_line_vals:\n",
    "    cols[first_line_val] = []\n",
    "for line in file:\n",
    "    line_vals = line.rstrip().split(',')\n",
    "    if (line_vals[0] == 'Never submitted'):\n",
    "        continue\n",
    "    for i in range(len(line_vals)):\n",
    "        cols[first_line_vals[i]].append(line_vals[i])\n",
    "\n",
    "file.close()\n",
    "\n",
    "for col_name, col_vals in cols.items():\n",
    "    print(f'{col_name}: [{col_vals[0]}, ...]')"
   ]
  },
  {
   "cell_type": "code",
   "execution_count": null,
   "metadata": {},
   "outputs": [],
   "source": [
    "# Chuyển kiểu dữ liệu của các cột từ str sang kiểu dữ liệu phù hợp\n",
    "# (Code lấy từ file 04-Demo.ipynb)\n",
    "new_cols = {}\n",
    "for col_name, col_vals in cols.items():\n",
    "    if '/' in col_name:\n",
    "        new_col_vals = []\n",
    "        for col_val in col_vals:\n",
    "            try:\n",
    "                col_val = float(col_val)\n",
    "            except:\n",
    "                col_val = 0\n",
    "            new_col_vals.append(float(col_val))\n",
    "        new_cols[col_name] = new_col_vals\n",
    "    elif col_name in ['Started on', 'Completed']:\n",
    "        new_col_vals = []\n",
    "        for col_val in col_vals:\n",
    "            new_col_val = dt.datetime.strptime(col_val,\n",
    "                                               '%d/%m/%Y %H:%M')\n",
    "            new_col_vals.append(new_col_val)\n",
    "        new_cols[col_name] = new_col_vals\n",
    "    elif col_name == 'Time taken':\n",
    "        new_col_vals = []\n",
    "        for col_val in col_vals:\n",
    "            hour = 0; minute = 0; second = 0\n",
    "            temp_list = col_val.split(' ')\n",
    "            for temp_i in range(len(temp_list)):\n",
    "                if 'hour' in temp_list[temp_i]:\n",
    "                    hour = int(temp_list[temp_i - 1])\n",
    "                elif 'min' in temp_list[temp_i]:\n",
    "                    minute = int(temp_list[temp_i - 1])\n",
    "                elif 'sec' in temp_list[temp_i]:\n",
    "                    second = int(temp_list[temp_i - 1])\n",
    "            new_col_val = hour * 60 + minute + second / 60\n",
    "            new_col_vals.append(new_col_val)\n",
    "        new_cols[col_name] = new_col_vals\n",
    "    else:\n",
    "        new_cols[col_name] = col_vals"
   ]
  },
  {
   "cell_type": "code",
   "execution_count": null,
   "metadata": {},
   "outputs": [],
   "source": [
    "cols = new_cols\n",
    "for col_name, col_vals in cols.items():\n",
    "    print(f'{col_name} {type(col_vals[0])}')"
   ]
  },
  {
   "cell_type": "markdown",
   "metadata": {},
   "source": [
    "### Vẽ histogram của cột điểm \"Grade/10.00\" với 4 bin có độ rộng bằng nhau"
   ]
  },
  {
   "cell_type": "code",
   "execution_count": null,
   "metadata": {},
   "outputs": [],
   "source": [
    "hist = plt.hist(cols['Grade/10.00'], [0, 2, 4, 6, 8,10], \n",
    "                edgecolor='black')\n",
    "print(hist)\n",
    "plt.xlabel('Grade')\n",
    "plt.ylabel('Num students')\n",
    "plt.title('Histogram of quiz grades');\n",
    "# plt.savefig('GradesHist.jpg')"
   ]
  },
  {
   "cell_type": "markdown",
   "metadata": {},
   "source": [
    "Kết quả đã tính ở file \"04-Demo.ipynb\": \\\n",
    "`{(0, 2): 0, (2, 4): 0, (4, 6): 10, (6, 8): 18, (8, 10): 26}`\\\n",
    "    *Bộ dữ liệu hơn khác với bài 04-Demo.ipynb để minh họa thêm ý trong bài này*\\\n",
    "    *Trong Dataset dùng trong bài 04-Demo.ipynb, (0, 2): 1*"
   ]
  },
  {
   "cell_type": "code",
   "execution_count": null,
   "metadata": {},
   "outputs": [],
   "source": [
    "# Chia ra 4 bin có độ rộng bằng nhau\n",
    "# bằng cách truyền một con số vào tham số bin của plt.hist\n",
    "hist = plt.hist(cols['Grade/10.00'], 5, \n",
    "                edgecolor='black')\n",
    "print(hist)\n",
    "plt.xlabel('Grade')\n",
    "plt.ylabel('Num students')\n",
    "plt.title('Histogram of quiz grades')\n",
    "plt.xticks(hist[1]); # Chỉ định tick ở trục hoành cho dễ nhìn"
   ]
  },
  {
   "cell_type": "markdown",
   "metadata": {},
   "source": [
    "### Vẽ histogram của cột điểm \"Grade/10.00\" với 2 bin có độ rộng không bằng nhau là [0, 7.5) và [7.5, 10]"
   ]
  },
  {
   "cell_type": "code",
   "execution_count": null,
   "metadata": {},
   "outputs": [],
   "source": [
    "hist = plt.hist(cols['Grade/10.00'], [0, 7.5, 10], \n",
    "                edgecolor='black')\n",
    "print(hist)\n",
    "plt.xlabel('Grade')\n",
    "plt.ylabel('Num students')\n",
    "plt.title('Histogram of quiz grades')\n",
    "# plt.xticks(hist[1]);"
   ]
  },
  {
   "cell_type": "markdown",
   "metadata": {},
   "source": [
    "Khi nhìn hình, bạn cảm nhận số lượng sinh viên ở bin thứ 1 như thế nào với bin thứ 2? \\\n",
    "Có vẻ nhiều hơn!\n",
    "\n",
    "Nhưng cảm nhận này không đúng: bin thứ 1 có 19 sinh viên, còn bin thứ 2 có 35 sinh viên.\n",
    "\n",
    "Tại sao ta lại có cảm nhận không đúng này? \\\n",
    "Vì mắt của ta tập trung vào diện tích của cột hơn là chiều cao của cột.\n",
    "\n",
    "Hình vẽ ở trên thật ra không phải là histogram!"
   ]
  },
  {
   "cell_type": "code",
   "execution_count": null,
   "metadata": {},
   "outputs": [],
   "source": [
    "# Đây mới là histogram!\n",
    "# Diện tích của cột ứng với số lượng sinh viên đã được chuẩn hóa \n",
    "# về tỉ lệ tương đối (tổng diện tích của các cột sẽ bằng 1) \n",
    "hist = plt.hist(cols['Grade/10.00'], [0, 7.5, 10], \n",
    "         edgecolor='black', density=True)\n",
    "plt.title('Histogram of quiz grades')\n",
    "plt.xlabel('Grade')\n",
    "plt.xticks(hist[1])\n",
    "\n",
    "# Label của trục tung là gì?\n",
    "plt.ylabel('Density (proportion per grade)');"
   ]
  },
  {
   "cell_type": "code",
   "execution_count": null,
   "metadata": {},
   "outputs": [],
   "source": [
    "hist[0]"
   ]
  },
  {
   "cell_type": "code",
   "execution_count": null,
   "metadata": {},
   "outputs": [],
   "source": [
    "hist[0][0] * 7.5 + hist[0][1] * 2.5"
   ]
  },
  {
   "cell_type": "markdown",
   "metadata": {},
   "source": [
    "### Tiếp tục với histogram gồm 2 bin [0, 7.5) và [7.5, 10]: phân bố của các giá trị trong bin [7.5, 10]?"
   ]
  },
  {
   "cell_type": "markdown",
   "metadata": {},
   "source": [
    "Histogram giả định các giá trị được phân bố đều trong mỗi bin. Điều này được thể hiện bởi đường nằm ngang ở trên đầu cột của mỗi bin."
   ]
  },
  {
   "cell_type": "code",
   "execution_count": null,
   "metadata": {},
   "outputs": [],
   "source": [
    "# Thử chi tiết hóa ra bin [12, 16]\n",
    "hist = plt.hist(cols['Grade/10.00'], \n",
    "                [0, 7.5, 8, 8.5, 9, 9.5, 10], \n",
    "                edgecolor='black', density=True)\n",
    "plt.xlabel('Grade')\n",
    "plt.ylabel('Proportion per grade')\n",
    "plt.title('Histogram of quiz grades')\n",
    "plt.xticks(hist[1], rotation=90);"
   ]
  },
  {
   "cell_type": "markdown",
   "metadata": {},
   "source": [
    "Tùy ngữ cảnh cụ thể mà bạn có thể muốn chi tiết hóa ra, có thể không muốn chi tiết hóa ra, nhưng khi nhìn hình của histogram thì bạn nên hiểu về giả định phân bố đều trong mỗi bin của histogram."
   ]
  },
  {
   "cell_type": "markdown",
   "metadata": {},
   "source": [
    "### Vẽ histogram của cột điểm \"Grade/10.00\" với 4 bin [0, 2), [2, 4), [4, 6),  [6, 8), [8, 10] + 3 đường đứng ứng với lower quartile, median, upper quartile"
   ]
  },
  {
   "cell_type": "code",
   "execution_count": null,
   "metadata": {
    "scrolled": true
   },
   "outputs": [],
   "source": [
    "def compute_percentile(data, p):\n",
    "    sorted_grades = sorted(data)\n",
    "    i = int(p/100 * (len(sorted_grades)-1))\n",
    "    return sorted_grades[i]\n",
    "lower_quartile = compute_percentile(cols['Grade/10.00'], 25)\n",
    "median = compute_percentile(cols['Grade/10.00'], 50)\n",
    "upper_quartile = compute_percentile(cols['Grade/10.00'], 75)\n",
    "lower_quartile, median, upper_quartile"
   ]
  },
  {
   "cell_type": "code",
   "execution_count": null,
   "metadata": {},
   "outputs": [],
   "source": [
    "hist = plt.hist(cols['Grade/10.00'], [0, 2, 4, 6, 8,10], \n",
    "                edgecolor='black', density=True)\n",
    "plt.xlabel('Grade')\n",
    "plt.ylabel('Proportion per grade')\n",
    "plt.title('Histogram of quiz grades')\n",
    "plt.xticks(hist[1])\n",
    "plt.axvline(lower_quartile, \n",
    "            color='red', linestyle='solid', linewidth=3, \n",
    "            label='lower quartile')\n",
    "plt.axvline(median, \n",
    "            color='violet', linestyle='dashed', linewidth=3,\n",
    "            label='median')\n",
    "plt.axvline(upper_quartile, \n",
    "            color='yellow', linestyle='dotted', linewidth=3,\n",
    "            label='upper quartile')\n",
    "plt.legend();"
   ]
  },
  {
   "cell_type": "markdown",
   "metadata": {},
   "source": [
    "Tại sao diện tích của cột từ upper quartile đến max lại không tương đương với từ median đến upper quartile?\n",
    "\n",
    "Do giả định phân bố đều của histogram trong bin [5, 10] là không chính xác. Thật ra là có nhiều giá trị tập trung vào vùng từ upper quartile đến max hơn là từ median đến upper quartile."
   ]
  },
  {
   "cell_type": "code",
   "execution_count": null,
   "metadata": {},
   "outputs": [],
   "source": [
    "# So sánh histogram của các distribution\n",
    "x1 = np.random.normal(0, 0.8, 1000)\n",
    "x2 = np.random.normal(-2, 1, 1000)\n",
    "x3 = np.random.normal(3, 2, 1000)\n",
    "\n",
    "kwargs = dict(histtype='stepfilled',bins=40,edgecolor='black', density=True, alpha = 0.3)\n",
    "\n",
    "plt.hist(x1, **kwargs)\n",
    "plt.hist(x2, **kwargs)\n",
    "plt.hist(x3, **kwargs);"
   ]
  },
  {
   "cell_type": "code",
   "execution_count": null,
   "metadata": {},
   "outputs": [],
   "source": [
    "data = pd.DataFrame({'x1':x1,'x2':x2,'x3':x3})\n",
    "data"
   ]
  },
  {
   "cell_type": "code",
   "execution_count": null,
   "metadata": {},
   "outputs": [],
   "source": [
    "# With seaborn\n",
    "data = pd.DataFrame({'x1':x1,'x2':x2,'x3':x3})\n",
    "sns.histplot(data, stat=\"density\")\n",
    "plt.title(\"Distribution of gross national income per capita\");"
   ]
  },
  {
   "cell_type": "code",
   "execution_count": null,
   "metadata": {},
   "outputs": [],
   "source": [
    "## Two-Dimensional Histograms and Binnings\n",
    "mean = [0, 0]\n",
    "cov = [[1, 1], [1, 2]]\n",
    "x,y = np.random.multivariate_normal(mean, cov, 10000).T"
   ]
  },
  {
   "cell_type": "code",
   "execution_count": null,
   "metadata": {},
   "outputs": [],
   "source": [
    "# Dùng plt.hist2d để vẽ 2D histogram\n",
    "plt.hist2d(x, y, bins=30, cmap='Blues')\n",
    "cb = plt.colorbar()\n",
    "cb.set_label('counts in bin')"
   ]
  },
  {
   "cell_type": "markdown",
   "metadata": {},
   "source": [
    "## Bar plot\n",
    "\n",
    "Dùng để trực quan hóa phân bố các giá trị của biến dạng \"categorical\"\n",
    "- Numerical\n",
    "- **Categorical**"
   ]
  },
  {
   "cell_type": "markdown",
   "metadata": {},
   "source": [
    "### Đọc dữ liệu đăng ký chuyên ngành K2021 (CQ) từ file và lấy ra cột các chuyên ngành"
   ]
  },
  {
   "cell_type": "code",
   "execution_count": null,
   "metadata": {
    "scrolled": true
   },
   "outputs": [],
   "source": [
    "file = open('Data/CQ2021Majors.txt', 'r')\n",
    "majors = []\n",
    "for line in file:\n",
    "    # Dòng ứng với thông tin của một sinh viên là dòng \n",
    "    # bắt đầu bằng ký tự số\n",
    "    if line[0].isdigit():\n",
    "        # Cắt đuôi \"hiệu chỉnh từ ...\" hoặc \"Xét lại với ...\"\n",
    "        # của dòng để thông tin chuyên ngành sẽ luôn ở cuối dòng\n",
    "        # if 'Không đạt điều kiện xét' in line:\n",
    "        #     continue\n",
    "        \n",
    "        line = line.split('Không đăng ký nguyện vọng chuyên ngành')[0]\n",
    "        line = line.rstrip()\n",
    "        # Để lấy thông tin chuyên ngành thì ta sẽ duyệt từ cuối \n",
    "        # dòng về đầu và sẽ ngắt khi gặp ký tự viết hoa đầu tiên \n",
    "        # mà trước đó không có dấu +\n",
    "        major = ''\n",
    "        for i in range(len(line) - 1, -1, -1): # Duyệt cuối -> đầu\n",
    "            major = line[i] + major\n",
    "            if line[i].isupper() and line[i - 2] != '+':\n",
    "                break\n",
    "        majors.append(major)\n",
    "file.close()\n",
    "majors"
   ]
  },
  {
   "cell_type": "code",
   "execution_count": null,
   "metadata": {},
   "outputs": [],
   "source": [
    "str = 'ABCXYZ'\n",
    "for i in range(len(str)-1,-1,-1):\n",
    "    print(str[i])"
   ]
  },
  {
   "cell_type": "code",
   "execution_count": null,
   "metadata": {},
   "outputs": [],
   "source": [
    "len(majors)"
   ]
  },
  {
   "cell_type": "markdown",
   "metadata": {},
   "source": [
    "### Vẽ bar plot của cột các chuyên ngành"
   ]
  },
  {
   "cell_type": "markdown",
   "metadata": {},
   "source": [
    "Bước 1: đếm số lần xuất hiện của mỗi chuyên ngành"
   ]
  },
  {
   "cell_type": "code",
   "execution_count": null,
   "metadata": {},
   "outputs": [],
   "source": [
    "majors_dist_df = pd.DataFrame({'Major':majors})\n",
    "majors_dist = majors_dist_df['Major'].value_counts()\n",
    "majors_dist"
   ]
  },
  {
   "cell_type": "code",
   "execution_count": null,
   "metadata": {},
   "outputs": [],
   "source": [
    "majors = majors_dist.index\n",
    "counts = majors_dist.values"
   ]
  },
  {
   "cell_type": "markdown",
   "metadata": {},
   "source": [
    "Bước 2: vẽ bar plot từ kết quả của bước 1"
   ]
  },
  {
   "cell_type": "code",
   "execution_count": null,
   "metadata": {},
   "outputs": [],
   "source": [
    "plt.bar(majors, counts)\n",
    "plt.ylabel('Số lượng SV');"
   ]
  },
  {
   "cell_type": "code",
   "execution_count": null,
   "metadata": {
    "scrolled": true
   },
   "outputs": [],
   "source": [
    "plt.barh(majors, counts)\n",
    "plt.xlabel('Số lượng SV');"
   ]
  },
  {
   "cell_type": "code",
   "execution_count": null,
   "metadata": {},
   "outputs": [],
   "source": [
    "# Trong bar plot, ta thường sẽ chuẩn hóa các giá trị đếm \n",
    "# về tỉ lệ tương đối\n",
    "ratio = np.empty(counts.shape)\n",
    "s = sum(counts)\n",
    "for i in range(len(ratio)):\n",
    "    ratio[i] = counts[i] / s\n",
    "\n",
    "plt.barh(majors, ratio)\n",
    "plt.xlabel('Tỉ lệ sinh viên')\n",
    "plt.xlim(0, 1);"
   ]
  },
  {
   "cell_type": "markdown",
   "metadata": {},
   "source": [
    "`pandas` native plotting:"
   ]
  },
  {
   "cell_type": "code",
   "execution_count": null,
   "metadata": {},
   "outputs": [],
   "source": [
    "majors_dist_df['Major'].value_counts().plot(kind='bar');"
   ]
  },
  {
   "cell_type": "code",
   "execution_count": null,
   "metadata": {},
   "outputs": [],
   "source": [
    "sns.countplot(data=majors_dist_df, x='Major',orient='h');\n",
    "plt.xticks(rotation=90);"
   ]
  },
  {
   "cell_type": "markdown",
   "metadata": {},
   "source": [
    "Bar plot vs histogram?"
   ]
  },
  {
   "cell_type": "markdown",
   "metadata": {},
   "source": [
    "Bar plot | Histogram\n",
    ":--- | :---\n",
    "Trục hoành (hay trục tung đối với bar plot nằm ngang) là biến \"categorical\" | Trục hoành là biến \"numerical\"\n",
    "Với biến \"categorical\" không có tính thứ tự (ví dụ, chuyên ngành) thì các bar không có thứ tự với nhau và ta có thể sắp xếp lại thứ tự của các bar cho dễ nhìn bằng cách sort các bar theo chiều cao; với biến \"categorical\" có tính thứ tự (ví dụ, mức độ hài lòng với các giá trị: rất hài lòng, hài lòng, không hài lòng, ...) thì các bar có thứ tự với nhau | Các bar có thứ tự với nhau\n",
    "Các bar có độ rộng bằng nhau, giữa các bar có thể có các khoảng không và các khoảng không này bằng nhau | Các bar có thể có độ rộng không bằng nhau, các bar nằm nối tiếp nhau tạo thành một đoạn liên tục trên trục hoành\n",
    "Tỉ lệ các phần tử tương ứng với chiều cao của bar | Tỉ lệ các phần tử tương ứng với diện tích của bar"
   ]
  },
  {
   "cell_type": "markdown",
   "metadata": {},
   "source": [
    "## Ôn lại các câu lệnh đã học"
   ]
  },
  {
   "cell_type": "markdown",
   "metadata": {},
   "source": [
    "Câu lệnh | Ý nghĩa\n",
    ":--- | :---\n",
    "`plt.hist` | Vẽ histogram của biến dạng \"numeric\"\n",
    "`plt.bar`, `plt.barh` | Vẽ bar chart của biến dạng \"categorical\" (cần phải tính số lần hoặc tỉ lệ của các giá trị trước khi vẽ)\n",
    "`plt.title` | Thêm tựa đề cho hình vẽ\n",
    "`plt.xlabel` & `plt.ylabel` | Thêm nhãn cho trục x & y\n",
    "`plt.xlim` & `plt.ylim` | Giới hạn miền giá trị cho trục x & y\n",
    "`plt.xticks` & `plt.yticks` | Chỉ định các tick cho trục x & y\n",
    "`plt.axvline` & `plt.axhline` | Vẽ đường thẳng nằm đứng & nằm ngang\n",
    "`plt.legend` | Thêm chú thích cho ký hiệu, màu, ... trên hình vẽ\n",
    "`plt.savefig` | Lưu hình vẽ xuống file"
   ]
  },
  {
   "cell_type": "markdown",
   "metadata": {},
   "source": [
    "## Một số cách plot phổ biến khác"
   ]
  },
  {
   "cell_type": "code",
   "execution_count": null,
   "metadata": {},
   "outputs": [],
   "source": [
    "# Creating dataset\n",
    "data = cols['Grade/10.00']\n",
    "  \n",
    "# Creating plot\n",
    "plt.boxplot(data)\n",
    " \n",
    "# show plot\n",
    "plt.show()"
   ]
  },
  {
   "cell_type": "code",
   "execution_count": null,
   "metadata": {},
   "outputs": [],
   "source": [
    "# Creating dataset\n",
    "np.random.seed(10)\n",
    "data = np.random.normal(100, 20, 200)\n",
    "\n",
    "# Creating plot\n",
    "plt.boxplot(data)\n",
    " \n",
    "# show plot\n",
    "plt.show()"
   ]
  },
  {
   "cell_type": "code",
   "execution_count": null,
   "metadata": {},
   "outputs": [],
   "source": [
    "plt.violinplot(data)"
   ]
  },
  {
   "cell_type": "code",
   "execution_count": null,
   "metadata": {},
   "outputs": [],
   "source": [
    "# Scatter Plots dùng để trực quan hóa mối quan hệ giữa hai biến liên tục\n",
    "x = np.linspace(0, 10, 40)\n",
    "y = np.sin(x)\n",
    "\n",
    "plt.scatter(x, y, color='blue');"
   ]
  },
  {
   "cell_type": "code",
   "execution_count": null,
   "metadata": {},
   "outputs": [],
   "source": [
    "# Scatter Plots dùng để trực quan hóa mối quan hệ giữa hai biến liên tục\n",
    "x = np.linspace(0, 10, 40)\n",
    "y = np.sin(x)\n",
    "\n",
    "plt.plot(x, y, color='blue');"
   ]
  },
  {
   "cell_type": "code",
   "execution_count": null,
   "metadata": {},
   "outputs": [],
   "source": [
    "rng = np.random.RandomState(0)\n",
    "for mark in ['o', '.', ',', 'x', '+', 'v', '^', '<', '>', 's', 'd']:\n",
    "    plt.plot(rng.rand(5), rng.rand(5), mark,\n",
    "             label = f'marker={mark}')\n",
    "    # plt.scatter(rng.rand(5), rng.rand(5),\n",
    "    #             marker = mark,label = f'marker={mark}')\n",
    "    \n",
    "plt.legend(numpoints=1)\n",
    "plt.xlim(0, 1.8);"
   ]
  },
  {
   "cell_type": "code",
   "execution_count": null,
   "metadata": {},
   "outputs": [],
   "source": [
    "plt.plot(x, y, '-ok');"
   ]
  },
  {
   "cell_type": "code",
   "execution_count": null,
   "metadata": {},
   "outputs": [],
   "source": [
    "plt.plot(x, y, '-p', color='green',\n",
    "         markersize=15, linewidth=4,\n",
    "         markerfacecolor='blue',\n",
    "         markeredgecolor='red',\n",
    "         markeredgewidth=2)\n",
    "plt.ylim(-1.2, 1.2);"
   ]
  },
  {
   "cell_type": "markdown",
   "metadata": {},
   "source": [
    "**Dùng scatter plot**"
   ]
  },
  {
   "cell_type": "code",
   "execution_count": null,
   "metadata": {},
   "outputs": [],
   "source": [
    "plt.scatter(x, y, marker='o');"
   ]
  },
  {
   "cell_type": "code",
   "execution_count": null,
   "metadata": {},
   "outputs": [],
   "source": [
    "# Format của từng point (size, face color, edge color) có thể được xử lý riêng lẻ\n",
    "rng = np.random.RandomState(0)\n",
    "x = rng.randn(100)\n",
    "y = rng.randn(100)\n",
    "colors = rng.rand(100)\n",
    "sizes = 1000 * rng.rand(100)\n",
    "\n",
    "plt.scatter(x, y, c=colors, s=sizes, alpha=0.3,\n",
    "            cmap='viridis')\n",
    "plt.colorbar();  # show color scale"
   ]
  },
  {
   "cell_type": "markdown",
   "metadata": {},
   "source": [
    "- `plot` sẽ nhanh hơn scatter (trên dữ liệu lớn)\n",
    "- `scatter` sẽ hiển thị được các điểm khác nhau."
   ]
  },
  {
   "cell_type": "markdown",
   "metadata": {},
   "source": [
    "## Nói thêm về matplotlib  "
   ]
  },
  {
   "cell_type": "markdown",
   "metadata": {},
   "source": [
    "### Ba cách dùng matplotlib"
   ]
  },
  {
   "cell_type": "markdown",
   "metadata": {},
   "source": [
    "<font color=blue>Cách 1: Dùng các câu lệnh của `plt`</font> (trước giờ là làm theo cách này)"
   ]
  },
  {
   "cell_type": "code",
   "execution_count": null,
   "metadata": {},
   "outputs": [],
   "source": [
    "values = ['a', 'b', 'c']\n",
    "counts = [1, 2, 3]\n",
    "\n",
    "plt.bar(values, counts) # Đầu tiên, plt sẽ tạo ra một đối tượng\n",
    "                        # figure ở bên dưới và sau đó sẽ gọi các \n",
    "                        # phương thức của đối tượng figure này ...\n",
    "\n",
    "plt.title('Bar plot 1'); # Các câu lệnh plt sau đó sẽ gọi các\n",
    "                         # phương thức của cùng đối tượng figure\n",
    "                         # đã được tạo ra trước đó\n",
    "values2 = ['d', 'e']\n",
    "counts2 = [5, 3]\n",
    "plt.bar(values2, counts2)"
   ]
  },
  {
   "cell_type": "code",
   "execution_count": null,
   "metadata": {},
   "outputs": [],
   "source": [
    "plt.savefig('Bar1.jpg') # Ở cell mới thì plt sẽ tạo lại một đối \n",
    "                        # tượng figure mới\n",
    "                        # --> ảnh trống :("
   ]
  },
  {
   "cell_type": "markdown",
   "metadata": {},
   "source": [
    "<font color=blue>Cách 2: Dùng trực tiếp các phương thức của đối tượng figure ở bên dưới</font>"
   ]
  },
  {
   "cell_type": "code",
   "execution_count": null,
   "metadata": {},
   "outputs": [],
   "source": [
    "values = ['a', 'b', 'c']\n",
    "counts = [1, 2, 3]\n",
    "\n",
    "fig = plt.figure(); ax = fig.add_axes([0, 0, 1, 1])\n",
    "ax.bar(values, counts)\n",
    "ax.set_title('Bar plot 2');"
   ]
  },
  {
   "cell_type": "code",
   "execution_count": null,
   "metadata": {},
   "outputs": [],
   "source": [
    "fig.savefig('Bar2.jpg') # Ảnh không trống nhưng ..."
   ]
  },
  {
   "cell_type": "code",
   "execution_count": null,
   "metadata": {
    "scrolled": true
   },
   "outputs": [],
   "source": [
    "values = ['a', 'b', 'c']\n",
    "counts = [1, 2, 3]\n",
    "\n",
    "fig = plt.figure(); ax = fig.add_axes([0.1, 0.1, 0.8, 0.8])\n",
    "ax.bar(values, counts)\n",
    "ax.set_title('Bar plot 2')\n",
    "fig.savefig('Bar2.jpg') # :)"
   ]
  },
  {
   "cell_type": "code",
   "execution_count": null,
   "metadata": {},
   "outputs": [],
   "source": [
    "# fig = plt.figure(); ax = fig.add_axes([0.1, 0.1, 0.8, 0.8])\n",
    "fig = plt.figure(); ax = fig.add_subplot() \n",
    "ax.bar(values, counts)\n",
    "ax.set_title('Bar plot 2')\n",
    "fig.savefig('Bar2.jpg') # :)"
   ]
  },
  {
   "cell_type": "code",
   "execution_count": null,
   "metadata": {},
   "outputs": [],
   "source": [
    "# fig = plt.figure(); ax = fig.add_axes([0.1, 0.1, 0.8, 0.8])\n",
    "# fig = plt.figure(); ax = fig.add_subplot() \n",
    "fig, ax = plt.subplots()\n",
    "ax.bar(values, counts)\n",
    "ax.set_title('Bar plot 2')\n",
    "fig.savefig('Bar2.jpg') # :)"
   ]
  },
  {
   "cell_type": "markdown",
   "metadata": {},
   "source": [
    "<font color=blue>Cách 3: Trộn lẫn giữa cách 1 và cách 2</font>"
   ]
  },
  {
   "cell_type": "code",
   "execution_count": null,
   "metadata": {},
   "outputs": [],
   "source": [
    "plt.bar(values, counts)\n",
    "plt.title('Bar plot 3')\n",
    "fig = plt.gcf() # Lấy đối tượng figure ở bên dưới\n",
    "# Nếu bạn muốn lấy đối tượng axes ở bên dưới: ax = plt.gca()"
   ]
  },
  {
   "cell_type": "code",
   "execution_count": null,
   "metadata": {},
   "outputs": [],
   "source": [
    "fig.savefig('Bar3.jpg') # :)"
   ]
  },
  {
   "cell_type": "markdown",
   "metadata": {},
   "source": [
    "### Thay đổi style cho các hình vẽ "
   ]
  },
  {
   "cell_type": "code",
   "execution_count": null,
   "metadata": {},
   "outputs": [],
   "source": [
    "plt.style.available"
   ]
  },
  {
   "cell_type": "code",
   "execution_count": null,
   "metadata": {},
   "outputs": [],
   "source": [
    "plt.style.use('fivethirtyeight')\n",
    "hist = plt.hist(cols['Grade/10.00'], [0, 2, 4, 6, 8,10], \n",
    "                edgecolor='black', density=True)\n",
    "plt.xlabel('Grade')\n",
    "plt.ylabel('Proportion per grade')\n",
    "plt.title('Histogram of quiz grades')\n",
    "plt.xticks(hist[1])\n",
    "plt.axvline(lower_quartile, \n",
    "            color='red', linestyle='solid', linewidth=3, \n",
    "            label='lower quartile')\n",
    "plt.axvline(median, \n",
    "            color='violet', linestyle='dashed', linewidth=3,\n",
    "            label='median')\n",
    "plt.axvline(upper_quartile, \n",
    "            color='yellow', linestyle='dotted', linewidth=3,\n",
    "            label='upper quartile')\n",
    "plt.legend();"
   ]
  },
  {
   "cell_type": "markdown",
   "metadata": {},
   "source": [
    "Xem thêm về các style ở [document](https://matplotlib.org/stable/gallery/style_sheets/style_sheets_reference.html)."
   ]
  },
  {
   "cell_type": "markdown",
   "metadata": {},
   "source": [
    "# Vẽ nhiều subplot"
   ]
  },
  {
   "cell_type": "code",
   "execution_count": null,
   "metadata": {},
   "outputs": [],
   "source": [
    "plt.style.use('seaborn-v0_8-white')"
   ]
  },
  {
   "cell_type": "markdown",
   "metadata": {},
   "source": [
    "**Tự tạo ra các trục tọa độ (axis)**"
   ]
  },
  {
   "cell_type": "code",
   "execution_count": null,
   "metadata": {},
   "outputs": [],
   "source": [
    "ax1 = plt.axes()  # standard axes\n",
    "ax2 = plt.axes([0.65, 0.65, 0.2, 0.2])"
   ]
  },
  {
   "cell_type": "code",
   "execution_count": null,
   "metadata": {},
   "outputs": [],
   "source": [
    "fig = plt.figure()\n",
    "ax1 = fig.add_axes([0.1, 0.5, 0.8, 0.4],\n",
    "                   ylim=(-1.2, 1.2))\n",
    "ax2 = fig.add_axes([0.1, 0.1, 0.8, 0.4],\n",
    "                   ylim=(-1.2, 1.2))\n",
    "\n",
    "x = np.linspace(0, 10)\n",
    "ax1.plot(x,np.sin(x))\n",
    "ax2.plot(x,np.cos(x));"
   ]
  },
  {
   "cell_type": "code",
   "execution_count": null,
   "metadata": {},
   "outputs": [],
   "source": [
    "ax1 = plt.axes()  # standard axes\n",
    "ax2 = plt.axes([0.65, 0.65, 0.2, 0.2])"
   ]
  },
  {
   "cell_type": "markdown",
   "metadata": {},
   "source": [
    "**Dùng subplot (lưu ý không `s`)**"
   ]
  },
  {
   "cell_type": "code",
   "execution_count": null,
   "metadata": {},
   "outputs": [],
   "source": [
    "for i in range(1, 7):\n",
    "    plt.subplot(2, 3, i)\n",
    "    plt.text(0.5, 0.5, f'2, 3, {i}',\n",
    "             fontsize=18, ha='center')"
   ]
  },
  {
   "cell_type": "code",
   "execution_count": null,
   "metadata": {},
   "outputs": [],
   "source": [
    "for i in range(1, 4):\n",
    "    plt.subplot(2, 3, i)\n",
    "    plt.text(0.5, 0.5, f'2, 3, {i}',\n",
    "             fontsize=18, ha='center')\n",
    "for i in range(1, 3):\n",
    "    plt.subplot(2, 2, i+2)\n",
    "    plt.text(0.5, 0.5, f'2, 2, {i}',\n",
    "             fontsize=18, ha='center')"
   ]
  },
  {
   "cell_type": "code",
   "execution_count": null,
   "metadata": {},
   "outputs": [],
   "source": [
    "x = np.linspace(0, 10)\n",
    "ax1.plot(x,np.sin(x))\n",
    "ax2.plot(x,np.cos(x));\n",
    "\n",
    "for i in range(1, 4):\n",
    "    plt.subplot(2, 3, i)\n",
    "    plt.plot(x,np.sin(x))\n",
    "for i in range(1, 3):\n",
    "    plt.subplot(2, 2, i+2)\n",
    "    plt.plot(x,np.sin(x))"
   ]
  },
  {
   "cell_type": "code",
   "execution_count": null,
   "metadata": {},
   "outputs": [],
   "source": [
    "# Thay đổi khoảng cách giữa các subplot\n",
    "fig = plt.figure()\n",
    "fig.subplots_adjust(hspace=0.4, wspace=0.4)\n",
    "for i in range(1, 7):\n",
    "    ax = fig.add_subplot(2, 3, i)\n",
    "    ax.text(0.5, 0.5, f'2, 2, {i}',\n",
    "           fontsize=18, ha='center')"
   ]
  },
  {
   "cell_type": "markdown",
   "metadata": {},
   "source": [
    "### ``plt.subplots``: Vẽ toàn bộ gird\n",
    "**Lưu ý có `s`**"
   ]
  },
  {
   "cell_type": "code",
   "execution_count": null,
   "metadata": {},
   "outputs": [],
   "source": [
    "fig, ax = plt.subplots(2, 3, sharex='col', sharey='row')"
   ]
  },
  {
   "cell_type": "code",
   "execution_count": null,
   "metadata": {},
   "outputs": [],
   "source": [
    "for i in range(2):\n",
    "    for j in range(3):\n",
    "        ax[i, j].text(0.5, 0.5, f'2, 2, {i}',\n",
    "                      fontsize=18, ha='center')\n",
    "fig"
   ]
  },
  {
   "cell_type": "code",
   "execution_count": null,
   "metadata": {},
   "outputs": [],
   "source": [
    "grid = plt.GridSpec(2, 3, wspace=0.4, hspace=0.3)"
   ]
  },
  {
   "cell_type": "code",
   "execution_count": null,
   "metadata": {},
   "outputs": [],
   "source": [
    "plt.subplot(grid[0, 0])\n",
    "plt.subplot(grid[0, 1:])\n",
    "plt.subplot(grid[1, :2])\n",
    "plt.subplot(grid[1, 2]);"
   ]
  },
  {
   "cell_type": "code",
   "execution_count": null,
   "metadata": {},
   "outputs": [],
   "source": [
    "# Create some normally distributed data\n",
    "mean = [0, 0]\n",
    "cov = [[1, 1], [1, 2]]\n",
    "x, y = np.random.multivariate_normal(mean, cov, 3000).T\n",
    "\n",
    "# Set up the axes with gridspec\n",
    "fig = plt.figure(figsize=(6, 6))\n",
    "grid = plt.GridSpec(4, 4, hspace=0.2, wspace=0.2)\n",
    "main_ax = fig.add_subplot(grid[:-1, 1:])\n",
    "y_hist = fig.add_subplot(grid[:-1, 0], xticklabels=[], sharey=main_ax)\n",
    "x_hist = fig.add_subplot(grid[-1, 1:], yticklabels=[], sharex=main_ax)\n",
    "\n",
    "# scatter points on the main axes\n",
    "main_ax.plot(x, y, 'go', markersize=3, alpha=0.2)\n",
    "\n",
    "# histogram on the attached axes\n",
    "x_hist.hist(x, 40, histtype='stepfilled',\n",
    "            orientation='vertical', color='blue')\n",
    "x_hist.invert_yaxis()\n",
    "\n",
    "y_hist.hist(y, 40, histtype='stepfilled',\n",
    "            orientation='horizontal', color='red')\n",
    "y_hist.invert_xaxis()"
   ]
  }
 ],
 "metadata": {
  "kernelspec": {
   "display_name": "Python 3 (ipykernel)",
   "language": "python",
   "name": "python3"
  },
  "language_info": {
   "codemirror_mode": {
    "name": "ipython",
    "version": 3
   },
   "file_extension": ".py",
   "mimetype": "text/x-python",
   "name": "python",
   "nbconvert_exporter": "python",
   "pygments_lexer": "ipython3",
   "version": "3.11.6"
  },
  "toc": {
   "base_numbering": 1,
   "nav_menu": {},
   "number_sections": false,
   "sideBar": true,
   "skip_h1_title": false,
   "title_cell": "Table of Contents",
   "title_sidebar": "Contents",
   "toc_cell": false,
   "toc_position": {
    "height": "calc(100% - 180px)",
    "left": "10px",
    "top": "150px",
    "width": "234px"
   },
   "toc_section_display": true,
   "toc_window_display": false
  }
 },
 "nbformat": 4,
 "nbformat_minor": 4
}
