{
 "cells": [
  {
   "cell_type": "markdown",
   "metadata": {
    "tags": []
   },
   "source": [
    "# Numpy (phần 2)"
   ]
  },
  {
   "cell_type": "markdown",
   "metadata": {},
   "source": [
    "**Reference**\n",
    "1. [Python Data Science Handbook\n",
    "](https://jakevdp.github.io/PythonDataScienceHandbook/02.00-introduction-to-numpy.htm)\n",
    "2. [Numpy cheat sheet](https://www.datacamp.com/cheat-sheet/numpy-cheat-sheet-data-analysis-in-python)"
   ]
  },
  {
   "cell_type": "code",
   "execution_count": 1,
   "metadata": {
    "hide_input": false
   },
   "outputs": [],
   "source": [
    "import numpy as np\n",
    "\n",
    "import matplotlib.pyplot as plt\n",
    "import seaborn; seaborn.set() # Plot styling\n",
    "import math # Thư viện built-in của Python"
   ]
  },
  {
   "cell_type": "markdown",
   "metadata": {},
   "source": [
    "## Review"
   ]
  },
  {
   "cell_type": "markdown",
   "metadata": {},
   "source": [
    "### Tạo Numpy array & xem thông tin của Numpy array"
   ]
  },
  {
   "cell_type": "markdown",
   "metadata": {},
   "source": [
    "Tạo Numpy array: \\\n",
    "`np.array` \\\n",
    "`np.full` `np.zeros` `np.ones` \\\n",
    "`np.random.random` \\\n",
    "`np.empty` \\\n",
    "`np.eye` \\\n",
    "`np.arange` `np.linspace` \\\n",
    "`np.reshape` \\\n",
    "`np.genfromtxt`\\\n",
    "...\n",
    "\n",
    "Xem thông tin của Numpy array: \\\n",
    "`a.ndim` `a.shape` `a.size` \\\n",
    "`a.dtype` \\\n",
    "`a.itemsize` `a.nbytes` \\\n",
    "..."
   ]
  },
  {
   "cell_type": "markdown",
   "metadata": {},
   "source": [
    "### Truy xuất (và thay đổi) các phần tử trong Numpy array"
   ]
  },
  {
   "cell_type": "markdown",
   "metadata": {},
   "source": [
    "- Integer indexing\n",
    "- Slicing\n",
    "- Bool array indexing\n",
    "- Integer array indexing\n",
    "- Kết hợp 4 loại trên với nhau (khi làm với array nhiều chiều)"
   ]
  },
  {
   "cell_type": "markdown",
   "metadata": {
    "tags": []
   },
   "source": [
    "### Tính toán trên Numpy array "
   ]
  },
  {
   "cell_type": "markdown",
   "metadata": {},
   "source": [
    "Để sử dụng Numpy hiệu quả thì thay đổi cách tư duy: cần suy nghĩ về <font color=blue>các thao tác tính toán trên nguyên mảng</font> mà Numpy đã cung cấp, chứ không phải là các thao tác tính toán trên từng con số"
   ]
  },
  {
   "cell_type": "markdown",
   "metadata": {},
   "source": [
    "Hầu hết mọi thao tác tính toán trên mảng mà ta có thể nghĩ tới thì đều đã được Numpy cung cấp:\n",
    "\n",
    "`+`, `np.add`\\\n",
    "`-`, `np.subtract`\\\n",
    "`-`, `np.negative`\\\n",
    "`*`, `np.multiply`\\\n",
    "`@`, `np.dot`\\\n",
    "`/`, `np.divide`\\\n",
    "`//`, `np.floor_divide`\\\n",
    "`**`, `np.power`\\\n",
    "`%`, `np.mod`\\\n",
    "`np.abs`\\\n",
    "`np.exp`\\\n",
    "`np.log`\\\n",
    "...\n",
    "\n",
    "`==`, `np.equal`\\\n",
    "`<`, `np.less`\\\n",
    "`>`, `np.greater`\\\n",
    "`!=`, `np.not_equal`\\\n",
    "`<=`, `np.less_equal`\\\n",
    "`>=`, `np.greater_equal`\\\n",
    "`&`, `np.bitwise_and`\\\n",
    "`|`, `np.bitwise_or`\\\n",
    "`~`, `np.bitwise_not`\\\n",
    "`np.nonzero`\\\n",
    "`np.any`\\\n",
    "`np.all`\\\n",
    "...\n",
    "\n",
    "`np.sum`\\\n",
    "`np.prod`\\\n",
    "`np.min`\\\n",
    "`np.max`\\\n",
    "`np.argmin`\\\n",
    "`np.argmax`\\\n",
    "...\n",
    "\n",
    "`np.mean`\\\n",
    "`np.std`\\\n",
    "`np.percentile`\\\n",
    "`np.histogram`\\\n",
    "`np.unique`\\\n",
    "`np.sort`\\\n",
    "`np.argsort`\\\n",
    "...\n",
    "\n",
    "Với một tính toán nào đó trên Numpy array, ngoài dạng hàm (hoặc toán tử) thì thường ta cũng có thể gọi phương thức tương đương từ Numpy array \\\n",
    "$\\to$ Giúp đáp ứng các \"khẩu vị code\" khác nhau của người dùng"
   ]
  },
  {
   "cell_type": "markdown",
   "metadata": {},
   "source": [
    "## Áp dụng Numpy để thực hiện khám phá và tiền xử lý dữ liệu"
   ]
  },
  {
   "cell_type": "markdown",
   "metadata": {},
   "source": [
    "**Trong phần này, chúng ta sẽ thực hiện quy trình khám phá dữ liệu trên tập dữ liệu P4DS-Grades.csv với sự hỗ trợ của thư viện `numpy`**"
   ]
  },
  {
   "cell_type": "code",
   "execution_count": 2,
   "metadata": {
    "scrolled": true,
    "tags": []
   },
   "outputs": [
    {
     "data": {
      "text/plain": [
       "array([[ 0.  ,  0.  ,  0.  ,  0.  ],\n",
       "       [10.  , 10.  , 10.  ,  9.5 ],\n",
       "       [10.  ,  9.25,  9.  ,  7.  ],\n",
       "       [10.  ,  9.5 ,  9.85,  8.  ],\n",
       "       [10.  ,  9.75,  9.75,  9.  ],\n",
       "       [10.  , 10.  , 10.  ,  8.5 ],\n",
       "       [10.  , 10.  ,  9.75,  9.  ],\n",
       "       [10.  ,  9.5 ,  9.7 ,  9.  ],\n",
       "       [10.  ,  9.75,  9.35,  9.  ],\n",
       "       [10.  , 10.  ,  9.6 ,  8.  ],\n",
       "       [ 9.  ,  9.25,  9.9 ,  7.5 ],\n",
       "       [10.  , 10.  , 10.  ,  8.  ],\n",
       "       [10.  ,  8.5 ,  5.75,  7.  ],\n",
       "       [10.  ,  9.5 ,  9.75,  8.  ],\n",
       "       [ 9.25, 10.  , 10.  ,  8.5 ],\n",
       "       [10.  , 10.  , 10.  , 10.  ],\n",
       "       [ 8.5 ,  8.25,  0.  ,  0.  ],\n",
       "       [10.  , 10.  ,  9.9 ,  9.  ],\n",
       "       [10.  ,  9.5 ,  9.45,  9.  ],\n",
       "       [ 9.75, 10.  , 10.  ,  9.  ],\n",
       "       [10.  , 10.  ,  9.  , 10.  ],\n",
       "       [10.  ,  9.75, 10.  , 10.  ],\n",
       "       [ 9.75,  9.5 ,  5.25,  6.5 ],\n",
       "       [ 9.75,  9.75, 10.  ,  9.5 ],\n",
       "       [ 9.5 , 10.  , 10.  ,  7.5 ],\n",
       "       [10.  ,  9.25,  9.9 ,  9.  ],\n",
       "       [10.  , 10.  , 10.  ,  7.5 ],\n",
       "       [ 9.5 , 10.  ,  9.75,  9.5 ],\n",
       "       [ 9.75, 10.  ,  9.4 ,  7.  ],\n",
       "       [ 1.5 ,  5.5 ,  9.  ,  7.5 ],\n",
       "       [10.  ,  8.  , 10.  ,  9.  ],\n",
       "       [10.  ,  9.  , 10.  ,  9.  ],\n",
       "       [ 9.75, 10.  ,  9.6 ,  7.  ],\n",
       "       [10.  , 10.  , 10.  ,  7.  ],\n",
       "       [ 8.75, 10.  ,  8.25,  7.5 ],\n",
       "       [ 0.  ,  9.  ,  9.55,  6.5 ],\n",
       "       [ 9.5 , 10.  ,  9.75,  6.5 ],\n",
       "       [ 9.75,  9.5 ,  9.2 ,  7.  ],\n",
       "       [ 0.  ,  9.75,  0.  ,  8.5 ],\n",
       "       [10.  ,  9.5 ,  9.8 ,  6.5 ],\n",
       "       [10.  , 10.  , 10.  ,  9.  ],\n",
       "       [ 9.5 , 10.  ,  9.  ,  8.5 ],\n",
       "       [10.  , 10.  , 10.  , 10.  ],\n",
       "       [ 0.  ,  8.5 ,  9.6 ,  9.  ],\n",
       "       [ 9.75, 10.  , 10.  ,  8.  ]])"
      ]
     },
     "execution_count": 2,
     "metadata": {},
     "output_type": "execute_result"
    }
   ],
   "source": [
    "# Tạo array từ file\n",
    "# File 'P4DS-Grades.csv' chứa điểm này của khóa trước ;-)\n",
    "# 3 cột đầu ứng với điểm 3 HW (mỗi HW chiếm 50%/3 tổng điểm)\n",
    "# cột cuối ứng điểm đồ án cuối kỳ (chiếm 50% tổng điểm)\n",
    "p4ds_grades = np.genfromtxt('Data/P4DS-Grades.csv',\n",
    "                            delimiter=',', skip_header=1)\n",
    "p4ds_grades"
   ]
  },
  {
   "cell_type": "code",
   "execution_count": 3,
   "metadata": {},
   "outputs": [
    {
     "data": {
      "text/plain": [
       "(45, 4)"
      ]
     },
     "execution_count": 3,
     "metadata": {},
     "output_type": "execute_result"
    }
   ],
   "source": [
    "#Dữ liệu có bao nhiêu dòng và bao nhiêu cột?\n",
    "p4ds_grades.shape"
   ]
  },
  {
   "cell_type": "code",
   "execution_count": 5,
   "metadata": {
    "tags": []
   },
   "outputs": [
    {
     "name": "stdout",
     "output_type": "stream",
     "text": [
      "[0. 0. 0. 0.]\n",
      "[10. 10. 10. 10.]\n"
     ]
    }
   ],
   "source": [
    "# Tính min, max của mỗi cột điểm\n",
    "# để xem có gì bất thường không\n",
    "print(np.min(p4ds_grades, axis = 0))\n",
    "print(np.max(p4ds_grades, axis = 0))"
   ]
  },
  {
   "cell_type": "code",
   "execution_count": 6,
   "metadata": {
    "scrolled": true,
    "tags": []
   },
   "outputs": [
    {
     "data": {
      "text/plain": [
       "array([ 0.        ,  9.75      ,  8.20833333,  8.89166667,  9.41666667,\n",
       "        9.25      ,  9.45833333,  9.36666667,  9.35      ,  8.93333333,\n",
       "        8.44166667,  9.        ,  7.54166667,  8.875     ,  9.125     ,\n",
       "       10.        ,  2.79166667,  9.48333333,  9.325     ,  9.45833333,\n",
       "        9.83333333,  9.95833333,  7.33333333,  9.66666667,  8.66666667,\n",
       "        9.35833333,  8.75      ,  9.625     ,  8.35833333,  6.41666667,\n",
       "        9.16666667,  9.33333333,  8.39166667,  8.5       ,  8.25      ,\n",
       "        6.34166667,  8.125     ,  8.24166667,  5.875     ,  8.13333333,\n",
       "        9.5       ,  9.        , 10.        ,  7.51666667,  8.95833333])"
      ]
     },
     "execution_count": 6,
     "metadata": {},
     "output_type": "execute_result"
    }
   ],
   "source": [
    "# Tính cột điểm tổng kết\n",
    "average_grades = (p4ds_grades[:,0] * 0.5 /3\n",
    "                  + p4ds_grades[:,1] * 0.5 /3\n",
    "                  + p4ds_grades[:,2] * 0.5 /3\n",
    "                  + p4ds_grades[:,3] * 0.5 )\n",
    "average_grades"
   ]
  },
  {
   "cell_type": "code",
   "execution_count": 8,
   "metadata": {},
   "outputs": [
    {
     "name": "stdout",
     "output_type": "stream",
     "text": [
      "0.044444444444444446\n",
      "0.044444444444444446\n",
      "0.044444444444444446\n"
     ]
    }
   ],
   "source": [
    "# Tỉ lệ sinh viên rớt môn là bao nhiêu?\n",
    "print(average_grades[average_grades < 5].shape[0] / average_grades.shape[0])\n",
    "print(np.sum(average_grades < 5) / average_grades.shape[0])\n",
    "a = average_grades < 5\n",
    "print(a.mean())"
   ]
  },
  {
   "cell_type": "code",
   "execution_count": 9,
   "metadata": {
    "scrolled": true
   },
   "outputs": [
    {
     "name": "stdout",
     "output_type": "stream",
     "text": [
      "7.911111111111111\n",
      "1.9980237149323576\n"
     ]
    }
   ],
   "source": [
    "# Tính mean & standard deviation của cột điểm tổng kết\n",
    "final_grades = p4ds_grades[:,3]\n",
    "print(np.mean(final_grades))\n",
    "print(np.std(final_grades))"
   ]
  },
  {
   "cell_type": "code",
   "execution_count": 10,
   "metadata": {},
   "outputs": [
    {
     "name": "stdout",
     "output_type": "stream",
     "text": [
      "0.0\n",
      "7.0\n",
      "8.5\n",
      "9.0\n",
      "10.0\n"
     ]
    }
   ],
   "source": [
    "# Tính min, lower quartile, median, upper quartile, max \n",
    "# của cột điểm tổng kết\n",
    "print(np.min(final_grades))\n",
    "print(np.percentile(final_grades, 25))\n",
    "print(np.median(final_grades))\n",
    "print(np.percentile(final_grades, 75))\n",
    "print(np.max(final_grades))"
   ]
  },
  {
   "cell_type": "code",
   "execution_count": 12,
   "metadata": {},
   "outputs": [
    {
     "name": "stdout",
     "output_type": "stream",
     "text": [
      "1 1\n",
      "1 1\n",
      "2 2\n",
      "3 3\n",
      "4 4\n",
      "5 5\n",
      "5 5\n",
      "6 6\n",
      "7 7\n",
      "8 8\n",
      "9 9\n"
     ]
    }
   ],
   "source": [
    "# So sánh hàm tính percentile của Numpy với hàm tự viết trước đây\n",
    "def compute_percentile(data, p):\n",
    "    sorted_data = sorted(data)\n",
    "    i = int(p / 100 * (len(sorted_data)-1))\n",
    "    return sorted_data[i]\n",
    "\n",
    "data = np.arange(1, 10)\n",
    "for p in range(0, 101, 10):\n",
    "    print(compute_percentile(data, p), end=' ')\n",
    "    print(np.percentile(data, p, method='lower'))"
   ]
  },
  {
   "cell_type": "code",
   "execution_count": 13,
   "metadata": {},
   "outputs": [
    {
     "name": "stdout",
     "output_type": "stream",
     "text": [
      "[0 9 8 9 9 9 9 9 9 9 8 9 7 8 9 9 3 9 9 9 9 9 7 9 8 9 8 9 8 6 9 9 8 8 8 6 8\n",
      " 8 6 8 9 9 9 7 9]\n",
      "[ 1.  0.  0.  1.  0.  0.  3.  3. 12. 25.]\n"
     ]
    }
   ],
   "source": [
    "# Tính histogram của cột điểm tổng kết, rồi vẽ\n",
    "bins = np.linspace(0,10,10)\n",
    "counts = np.zeros_like(bins)\n",
    "\n",
    "i = np.searchsorted(bins,average_grades)\n",
    "print(i)\n",
    "\n",
    "np.add.at(counts, i, 1)\n",
    "print(counts)\n",
    "\n"
   ]
  },
  {
   "cell_type": "code",
   "execution_count": 15,
   "metadata": {},
   "outputs": [
    {
     "data": {
      "image/png": "[encoded data removed]",
      "text/plain": [
       "<Figure size 640x480 with 1 Axes>"
      ]
     },
     "metadata": {},
     "output_type": "display_data"
    }
   ],
   "source": [
    "# Tính histogram và vẽ luôn một lần bằng câu lệnh plt.hist\n",
    "plt.step(bins, counts);"
   ]
  },
  {
   "cell_type": "code",
   "execution_count": 17,
   "metadata": {},
   "outputs": [
    {
     "data": {
      "text/plain": [
       "array([[ 0.        ,  0.        ,  0.        ,  0.        ,  0.        ],\n",
       "       [10.        , 10.        , 10.        ,  9.5       ,  9.75      ],\n",
       "       [10.        ,  9.25      ,  9.        ,  7.        ,  8.20833333],\n",
       "       [10.        ,  9.5       ,  9.85      ,  8.        ,  8.89166667],\n",
       "       [10.        ,  9.75      ,  9.75      ,  9.        ,  9.41666667],\n",
       "       [10.        , 10.        , 10.        ,  8.5       ,  9.25      ],\n",
       "       [10.        , 10.        ,  9.75      ,  9.        ,  9.45833333],\n",
       "       [10.        ,  9.5       ,  9.7       ,  9.        ,  9.36666667],\n",
       "       [10.        ,  9.75      ,  9.35      ,  9.        ,  9.35      ],\n",
       "       [10.        , 10.        ,  9.6       ,  8.        ,  8.93333333],\n",
       "       [ 9.        ,  9.25      ,  9.9       ,  7.5       ,  8.44166667],\n",
       "       [10.        , 10.        , 10.        ,  8.        ,  9.        ],\n",
       "       [10.        ,  8.5       ,  5.75      ,  7.        ,  7.54166667],\n",
       "       [10.        ,  9.5       ,  9.75      ,  8.        ,  8.875     ],\n",
       "       [ 9.25      , 10.        , 10.        ,  8.5       ,  9.125     ],\n",
       "       [10.        , 10.        , 10.        , 10.        , 10.        ],\n",
       "       [ 8.5       ,  8.25      ,  0.        ,  0.        ,  2.79166667],\n",
       "       [10.        , 10.        ,  9.9       ,  9.        ,  9.48333333],\n",
       "       [10.        ,  9.5       ,  9.45      ,  9.        ,  9.325     ],\n",
       "       [ 9.75      , 10.        , 10.        ,  9.        ,  9.45833333],\n",
       "       [10.        , 10.        ,  9.        , 10.        ,  9.83333333],\n",
       "       [10.        ,  9.75      , 10.        , 10.        ,  9.95833333],\n",
       "       [ 9.75      ,  9.5       ,  5.25      ,  6.5       ,  7.33333333],\n",
       "       [ 9.75      ,  9.75      , 10.        ,  9.5       ,  9.66666667],\n",
       "       [ 9.5       , 10.        , 10.        ,  7.5       ,  8.66666667],\n",
       "       [10.        ,  9.25      ,  9.9       ,  9.        ,  9.35833333],\n",
       "       [10.        , 10.        , 10.        ,  7.5       ,  8.75      ],\n",
       "       [ 9.5       , 10.        ,  9.75      ,  9.5       ,  9.625     ],\n",
       "       [ 9.75      , 10.        ,  9.4       ,  7.        ,  8.35833333],\n",
       "       [ 1.5       ,  5.5       ,  9.        ,  7.5       ,  6.41666667],\n",
       "       [10.        ,  8.        , 10.        ,  9.        ,  9.16666667],\n",
       "       [10.        ,  9.        , 10.        ,  9.        ,  9.33333333],\n",
       "       [ 9.75      , 10.        ,  9.6       ,  7.        ,  8.39166667],\n",
       "       [10.        , 10.        , 10.        ,  7.        ,  8.5       ],\n",
       "       [ 8.75      , 10.        ,  8.25      ,  7.5       ,  8.25      ],\n",
       "       [ 0.        ,  9.        ,  9.55      ,  6.5       ,  6.34166667],\n",
       "       [ 9.5       , 10.        ,  9.75      ,  6.5       ,  8.125     ],\n",
       "       [ 9.75      ,  9.5       ,  9.2       ,  7.        ,  8.24166667],\n",
       "       [ 0.        ,  9.75      ,  0.        ,  8.5       ,  5.875     ],\n",
       "       [10.        ,  9.5       ,  9.8       ,  6.5       ,  8.13333333],\n",
       "       [10.        , 10.        , 10.        ,  9.        ,  9.5       ],\n",
       "       [ 9.5       , 10.        ,  9.        ,  8.5       ,  9.        ],\n",
       "       [10.        , 10.        , 10.        , 10.        , 10.        ],\n",
       "       [ 0.        ,  8.5       ,  9.6       ,  9.        ,  7.51666667],\n",
       "       [ 9.75      , 10.        , 10.        ,  8.        ,  8.95833333]])"
      ]
     },
     "execution_count": 17,
     "metadata": {},
     "output_type": "execute_result"
    }
   ],
   "source": [
    "# Thêm cột điểm tổng kết vào array gồm 4 cột điểm thành phần\n",
    "# để tạo thành array 5 cột điểm\n",
    "p4ds_grades = np.column_stack((p4ds_grades, average_grades))\n",
    "p4ds_grades"
   ]
  },
  {
   "cell_type": "code",
   "execution_count": null,
   "metadata": {},
   "outputs": [],
   "source": [
    "# Lưu array gồm 4 cột điểm thành phần + 1 cột điểm tổng kết \n",
    "# xuống file\n",
    "# Bạn có thể dùng hàm np.savetxt\n",
    "np.savetxt('Data/P4DS-Grades-5cols.csv', p4ds_grades, delimiter=',', fmt='%.2f')"
   ]
  },
  {
   "cell_type": "markdown",
   "metadata": {},
   "source": [
    "## Fancy Indexing"
   ]
  },
  {
   "cell_type": "code",
   "execution_count": 18,
   "metadata": {},
   "outputs": [
    {
     "name": "stdout",
     "output_type": "stream",
     "text": [
      "[  0  10  20  30  40  50  60  70  80  90 100]\n"
     ]
    }
   ],
   "source": [
    "x = np.arange(11) * 10\n",
    "print(x)"
   ]
  },
  {
   "cell_type": "code",
   "execution_count": 19,
   "metadata": {},
   "outputs": [
    {
     "name": "stdout",
     "output_type": "stream",
     "text": [
      "[20 30 40]\n"
     ]
    }
   ],
   "source": [
    "# Normal index\n",
    "print(x[2:5])"
   ]
  },
  {
   "cell_type": "code",
   "execution_count": 21,
   "metadata": {},
   "outputs": [
    {
     "data": {
      "text/plain": [
       "array([20, 50, 20, 10])"
      ]
     },
     "execution_count": 21,
     "metadata": {},
     "output_type": "execute_result"
    }
   ],
   "source": [
    "# Dùng list như index\n",
    "index = [2,5,2,1]\n",
    "x[index]"
   ]
  },
  {
   "cell_type": "markdown",
   "metadata": {},
   "source": [
    "Khi dùng *fancy indexing*, `shape` của kết quả sẽ là `shape` của *index array*, chứ không phải *mảng được index*"
   ]
  },
  {
   "cell_type": "code",
   "execution_count": 22,
   "metadata": {},
   "outputs": [
    {
     "data": {
      "text/plain": [
       "array([[20, 50],\n",
       "       [20, 10]])"
      ]
     },
     "execution_count": 22,
     "metadata": {},
     "output_type": "execute_result"
    }
   ],
   "source": [
    "index = np.array([[2,5],[2,1]])\n",
    "x[index]"
   ]
  },
  {
   "cell_type": "markdown",
   "metadata": {},
   "source": [
    "**Fancy indexing 2D**"
   ]
  },
  {
   "cell_type": "code",
   "execution_count": 25,
   "metadata": {},
   "outputs": [
    {
     "data": {
      "text/plain": [
       "array([[ 0,  1,  2,  3],\n",
       "       [ 4,  5,  6,  7],\n",
       "       [ 8,  9, 10, 11]])"
      ]
     },
     "execution_count": 25,
     "metadata": {},
     "output_type": "execute_result"
    }
   ],
   "source": [
    "X = np.arange(12).reshape((3, 4))\n",
    "X"
   ]
  },
  {
   "cell_type": "code",
   "execution_count": 26,
   "metadata": {},
   "outputs": [
    {
     "data": {
      "text/plain": [
       "array([ 2,  5, 11])"
      ]
     },
     "execution_count": 26,
     "metadata": {},
     "output_type": "execute_result"
    }
   ],
   "source": [
    "# Fancy index 2D\n",
    "row = np.array([0, 1, 2])\n",
    "col = np.array([2, 1, 3])\n",
    "X[row, col]"
   ]
  },
  {
   "cell_type": "code",
   "execution_count": 27,
   "metadata": {},
   "outputs": [
    {
     "data": {
      "text/plain": [
       "array([10,  8,  9])"
      ]
     },
     "execution_count": 27,
     "metadata": {},
     "output_type": "execute_result"
    }
   ],
   "source": [
    "#Fancy and simple index\n",
    "X[2, [2, 0, 1]]"
   ]
  },
  {
   "cell_type": "code",
   "execution_count": 28,
   "metadata": {},
   "outputs": [
    {
     "data": {
      "text/plain": [
       "array([[ 6,  4,  5],\n",
       "       [10,  8,  9]])"
      ]
     },
     "execution_count": 28,
     "metadata": {},
     "output_type": "execute_result"
    }
   ],
   "source": [
    "#Fancy and simple index\n",
    "X[1:, [2, 0, 1]]"
   ]
  },
  {
   "cell_type": "markdown",
   "metadata": {},
   "source": [
    "## Sorting"
   ]
  },
  {
   "cell_type": "code",
   "execution_count": 32,
   "metadata": {},
   "outputs": [
    {
     "name": "stdout",
     "output_type": "stream",
     "text": [
      "[1 2 3 4 5]\n"
     ]
    }
   ],
   "source": [
    "# Sort mảng x\n",
    "x = np.array([2, 1, 4, 3, 5])\n",
    "print(np.sort(x))\n"
   ]
  },
  {
   "cell_type": "code",
   "execution_count": 33,
   "metadata": {},
   "outputs": [
    {
     "data": {
      "text/plain": [
       "array([1, 2, 3, 4, 5])"
      ]
     },
     "execution_count": 33,
     "metadata": {},
     "output_type": "execute_result"
    }
   ],
   "source": [
    "# Sort mảng x\n",
    "x = np.array([2, 1, 4, 3, 5])\n",
    "x.sort()\n",
    "x"
   ]
  },
  {
   "cell_type": "code",
   "execution_count": 34,
   "metadata": {},
   "outputs": [
    {
     "name": "stdout",
     "output_type": "stream",
     "text": [
      "[1 0 3 2 4]\n"
     ]
    }
   ],
   "source": [
    "# argsort\n",
    "x = np.array([2, 1, 4, 3, 5])\n",
    "i = np.argsort(x)\n",
    "print(i)"
   ]
  },
  {
   "cell_type": "code",
   "execution_count": null,
   "metadata": {},
   "outputs": [],
   "source": []
  },
  {
   "cell_type": "markdown",
   "metadata": {},
   "source": [
    "**2D Sort**"
   ]
  },
  {
   "cell_type": "code",
   "execution_count": 35,
   "metadata": {},
   "outputs": [
    {
     "name": "stdout",
     "output_type": "stream",
     "text": [
      "[[7 8 3 1 4 1]\n",
      " [1 8 4 9 3 4]\n",
      " [1 3 6 0 7 1]\n",
      " [1 3 1 0 2 9]]\n"
     ]
    }
   ],
   "source": [
    "X = np.random.randint(0, 10, (4, 6))\n",
    "print(X)"
   ]
  },
  {
   "cell_type": "code",
   "execution_count": 36,
   "metadata": {},
   "outputs": [
    {
     "data": {
      "text/plain": [
       "array([[1, 3, 1, 0, 2, 1],\n",
       "       [1, 3, 3, 0, 3, 1],\n",
       "       [1, 8, 4, 1, 4, 4],\n",
       "       [7, 8, 6, 9, 7, 9]])"
      ]
     },
     "execution_count": 36,
     "metadata": {},
     "output_type": "execute_result"
    }
   ],
   "source": [
    "# sort each column of X\n",
    "np.sort(X, axis=0)"
   ]
  },
  {
   "cell_type": "code",
   "execution_count": 37,
   "metadata": {},
   "outputs": [
    {
     "data": {
      "text/plain": [
       "array([[1, 1, 3, 4, 7, 8],\n",
       "       [1, 3, 4, 4, 8, 9],\n",
       "       [0, 1, 1, 3, 6, 7],\n",
       "       [0, 1, 1, 2, 3, 9]])"
      ]
     },
     "execution_count": 37,
     "metadata": {},
     "output_type": "execute_result"
    }
   ],
   "source": [
    "# sort each row of X\n",
    "np.sort(X, axis=1)"
   ]
  },
  {
   "cell_type": "code",
   "execution_count": 39,
   "metadata": {},
   "outputs": [
    {
     "data": {
      "text/plain": [
       "array([1, 2, 3, 7, 6, 5, 4])"
      ]
     },
     "execution_count": 39,
     "metadata": {},
     "output_type": "execute_result"
    }
   ],
   "source": [
    "# Tìm ra k số nhỏ nhất với partition\n",
    "x = np.array([7, 2, 3, 1, 6, 5, 4])\n",
    "np.partition(x, 1)"
   ]
  },
  {
   "cell_type": "code",
   "execution_count": 40,
   "metadata": {},
   "outputs": [
    {
     "name": "stdout",
     "output_type": "stream",
     "text": [
      "[[0 5 8 0 4 6]\n",
      " [1 8 7 7 8 0]\n",
      " [9 3 4 2 0 1]\n",
      " [0 3 2 1 0 0]]\n"
     ]
    },
    {
     "data": {
      "text/plain": [
       "array([[0, 0, 4, 5, 8, 6],\n",
       "       [0, 1, 7, 7, 8, 8],\n",
       "       [0, 1, 2, 4, 9, 3],\n",
       "       [0, 0, 0, 1, 3, 2]])"
      ]
     },
     "execution_count": 40,
     "metadata": {},
     "output_type": "execute_result"
    }
   ],
   "source": [
    "# Tìm ra k số nhỏ nhất mỗi hàng\n",
    "x = np.random.randint(0, 10, (4, 6))\n",
    "print(x)\n",
    "np.partition(x, 2, axis=1)"
   ]
  },
  {
   "cell_type": "markdown",
   "metadata": {},
   "source": [
    " "
   ]
  },
  {
   "cell_type": "markdown",
   "metadata": {
    "tags": []
   },
   "source": [
    "## Broadcasting"
   ]
  },
  {
   "cell_type": "markdown",
   "metadata": {},
   "source": [
    "Là cơ chế của Numpy cho phép thực hiện tính toán khi các array không có cùng shape như thể có cùng shape (ở bên dưới, vụ này sẽ được thực hiện một cách hiệu quả: sẽ không tạo ra các array mới có cùng shape).\n",
    "\n",
    "Ví dụ: \n",
    "\n",
    "`a = np.array([1, 2, 3])`\n",
    "\n",
    "`a + 10`\n",
    "\n",
    "[Luật broadcasting](https://numpy.org/devdocs/user/quickstart.html#broadcasting-rules):\n",
    "\n",
    "- Rule 1: If the two arrays differ in their number of dimensions, the shape of the one with fewer dimensions is *padded* with ones on its leading (left) side.\n",
    "- Rule 2: If the shape of the two arrays does not match in any dimension, the array with shape equal to 1 in that dimension is stretched to match the other shape.\n",
    "- Rule 3: If in any dimension the sizes disagree and neither is equal to 1, an error is raised."
   ]
  },
  {
   "cell_type": "code",
   "execution_count": 46,
   "metadata": {},
   "outputs": [
    {
     "name": "stdout",
     "output_type": "stream",
     "text": [
      "(2, 3)\n",
      "(3,)\n"
     ]
    }
   ],
   "source": [
    "#Ví dụ 1: 1D + 2D\n",
    "M = np.ones((2, 3))\n",
    "a = np.arange(3)\n",
    "print(f'{M.shape}\\n{a.shape}')"
   ]
  },
  {
   "cell_type": "code",
   "execution_count": 47,
   "metadata": {},
   "outputs": [
    {
     "name": "stdout",
     "output_type": "stream",
     "text": [
      "[[1. 1. 1.]\n",
      " [1. 1. 1.]]\n",
      "[0 1 2]\n",
      "[[1. 2. 3.]\n",
      " [1. 2. 3.]]\n"
     ]
    }
   ],
   "source": [
    "print(M)\n",
    "print(a)\n",
    "print(M+a)"
   ]
  },
  {
   "cell_type": "code",
   "execution_count": 48,
   "metadata": {},
   "outputs": [
    {
     "data": {
      "text/plain": [
       "(2, 3)"
      ]
     },
     "execution_count": 48,
     "metadata": {},
     "output_type": "execute_result"
    }
   ],
   "source": [
    "# Ví dụ 2\n",
    "a = np.array([[4, 5, 6],\n",
    "              [7, 8, 9]])\n",
    "a.shape"
   ]
  },
  {
   "cell_type": "code",
   "execution_count": 49,
   "metadata": {},
   "outputs": [
    {
     "data": {
      "text/plain": [
       "array([[14, 15, 16],\n",
       "       [17, 18, 19]])"
      ]
     },
     "execution_count": 49,
     "metadata": {},
     "output_type": "execute_result"
    }
   ],
   "source": [
    "a + 10"
   ]
  },
  {
   "cell_type": "code",
   "execution_count": 50,
   "metadata": {},
   "outputs": [
    {
     "name": "stdout",
     "output_type": "stream",
     "text": [
      "(2, 3)\n",
      "(3,)\n"
     ]
    }
   ],
   "source": [
    "# Ví dụ 3\n",
    "a = np.array([[4, 5, 6],\n",
    "              [7, 8, 9]])\n",
    "b = np.array([1, 2, 3])\n",
    "print(f'{a.shape}\\n{b.shape}')"
   ]
  },
  {
   "cell_type": "code",
   "execution_count": 51,
   "metadata": {},
   "outputs": [
    {
     "data": {
      "text/plain": [
       "array([[ 4, 10, 18],\n",
       "       [ 7, 16, 27]])"
      ]
     },
     "execution_count": 51,
     "metadata": {},
     "output_type": "execute_result"
    }
   ],
   "source": [
    "a * b"
   ]
  },
  {
   "cell_type": "code",
   "execution_count": 52,
   "metadata": {
    "tags": []
   },
   "outputs": [
    {
     "name": "stdout",
     "output_type": "stream",
     "text": [
      "(3, 1)\n",
      "(3,)\n"
     ]
    }
   ],
   "source": [
    "# Broadcasting - ví dụ 4\n",
    "a = np.array([[4],\n",
    "              [5],\n",
    "              [6]])\n",
    "b = np.array([1, 2, 3])\n",
    "print(f'{a.shape}\\n{b.shape}')"
   ]
  },
  {
   "cell_type": "code",
   "execution_count": 53,
   "metadata": {},
   "outputs": [
    {
     "data": {
      "text/plain": [
       "array([[5, 6, 7],\n",
       "       [6, 7, 8],\n",
       "       [7, 8, 9]])"
      ]
     },
     "execution_count": 53,
     "metadata": {},
     "output_type": "execute_result"
    }
   ],
   "source": [
    "a + b"
   ]
  },
  {
   "cell_type": "code",
   "execution_count": 54,
   "metadata": {},
   "outputs": [
    {
     "name": "stdout",
     "output_type": "stream",
     "text": [
      "(2, 3)\n",
      "(2,)\n"
     ]
    }
   ],
   "source": [
    "# Broadcasting - ví dụ 5\n",
    "a = np.array([[4, 5, 6],\n",
    "              [7, 8, 9]])\n",
    "b = np.array([1, 2])\n",
    "print(f'{a.shape}\\n{b.shape}')"
   ]
  },
  {
   "cell_type": "code",
   "execution_count": 55,
   "metadata": {},
   "outputs": [
    {
     "ename": "ValueError",
     "evalue": "operands could not be broadcast together with shapes (2,3) (2,) ",
     "output_type": "error",
     "traceback": [
      "\u001b[1;31m---------------------------------------------------------------------------\u001b[0m",
      "\u001b[1;31mValueError\u001b[0m                                Traceback (most recent call last)",
      "\u001b[1;32me:\\Codes\\ProgrammingforDS\\hw5\\07-NumpyP2_Demo_Blank.ipynb Cell 60\u001b[0m line \u001b[0;36m1\n\u001b[1;32m----> <a href='vscode-notebook-cell:/e%3A/Codes/ProgrammingforDS/hw5/07-NumpyP2_Demo_Blank.ipynb#Y113sZmlsZQ%3D%3D?line=0'>1</a>\u001b[0m a \u001b[39m*\u001b[39;49m b\n",
      "\u001b[1;31mValueError\u001b[0m: operands could not be broadcast together with shapes (2,3) (2,) "
     ]
    }
   ],
   "source": [
    "a * b"
   ]
  },
  {
   "cell_type": "code",
   "execution_count": 57,
   "metadata": {},
   "outputs": [
    {
     "name": "stdout",
     "output_type": "stream",
     "text": [
      "[[ 2 15]\n",
      " [ 2 15]\n",
      " [ 3  9]\n",
      " [ 0 18]\n",
      " [ 6  0]\n",
      " [ 1 27]\n",
      " [ 5 27]\n",
      " [ 6  3]\n",
      " [ 2  0]\n",
      " [ 0 12]\n",
      " [ 4 18]\n",
      " [ 2 27]\n",
      " [ 6 18]\n",
      " [ 6 15]\n",
      " [ 6  3]\n",
      " [ 4 15]\n",
      " [ 4 27]\n",
      " [ 4 21]\n",
      " [ 0  0]\n",
      " [ 6 21]]\n",
      "[[-0.67260223  0.04911438]\n",
      " [-0.67260223  0.04911438]\n",
      " [-0.20873862 -0.60574397]\n",
      " [-1.60032944  0.37654355]\n",
      " [ 1.1828522  -1.58803149]\n",
      " [-1.13646584  1.35883107]\n",
      " [ 0.71898859  1.35883107]\n",
      " [ 1.1828522  -1.26060232]\n",
      " [-0.67260223 -1.58803149]\n",
      " [-1.60032944 -0.2783148 ]\n",
      " [ 0.25512498  0.37654355]\n",
      " [-0.67260223  1.35883107]\n",
      " [ 1.1828522   0.37654355]\n",
      " [ 1.1828522   0.04911438]\n",
      " [ 1.1828522  -1.26060232]\n",
      " [ 0.25512498  0.04911438]\n",
      " [ 0.25512498  1.35883107]\n",
      " [ 0.25512498  0.70397272]\n",
      " [-1.60032944 -1.58803149]\n",
      " [ 1.1828522   0.70397272]]\n"
     ]
    }
   ],
   "source": [
    "# Bài tập broadcasting:\n",
    "# Chuẩn hóa để các cột của array data có mean = 0 & std = 1\n",
    "# (Cách làm: lấy mỗi cột trừ cho mean của cột đó, \n",
    "#            rồi chia cho std của cột đó)\n",
    "data = np.random.randint(0, 10, (20, 2))\n",
    "data[:, 1] *= 3\n",
    "print(data)\n",
    "mean = np.mean(data, axis=0)\n",
    "std = np.std(data, axis=0)\n",
    "data = (data - mean) / std\n",
    "print(data)\n",
    "# TODO\n"
   ]
  },
  {
   "cell_type": "markdown",
   "metadata": {},
   "source": [
    "## Áp dụng Numpy để làm một ví dụ thực tế: k-Nearest Neighbors"
   ]
  },
  {
   "cell_type": "code",
   "execution_count": 58,
   "metadata": {},
   "outputs": [
    {
     "data": {
      "text/plain": [
       "array([[0.34078802, 0.48565248],\n",
       "       [0.84965217, 0.73645604],\n",
       "       [0.98226619, 0.44262877],\n",
       "       [0.80223698, 0.30666851],\n",
       "       [0.63421697, 0.13014961],\n",
       "       [0.11890546, 0.97589749],\n",
       "       [0.04637134, 0.25926929],\n",
       "       [0.63688643, 0.37269773],\n",
       "       [0.09041277, 0.16761135],\n",
       "       [0.6253329 , 0.56194549]])"
      ]
     },
     "execution_count": 58,
     "metadata": {},
     "output_type": "execute_result"
    }
   ],
   "source": [
    "X = np.random.rand(10, 2)\n",
    "X"
   ]
  },
  {
   "cell_type": "code",
   "execution_count": 59,
   "metadata": {},
   "outputs": [
    {
     "data": {
      "image/png": "[encoded data removed]",
      "text/plain": [
       "<Figure size 640x480 with 1 Axes>"
      ]
     },
     "metadata": {},
     "output_type": "display_data"
    }
   ],
   "source": [
    "plt.scatter(X[:, 0], X[:, 1], s=100);"
   ]
  },
  {
   "cell_type": "code",
   "execution_count": null,
   "metadata": {},
   "outputs": [],
   "source": [
    "# for each pair of points, compute differences in their coordinates\n"
   ]
  },
  {
   "cell_type": "code",
   "execution_count": null,
   "metadata": {},
   "outputs": [],
   "source": [
    "# square the coordinate differences\n"
   ]
  },
  {
   "cell_type": "code",
   "execution_count": null,
   "metadata": {},
   "outputs": [],
   "source": [
    "# sum the coordinate differences to get the squared distance\n"
   ]
  },
  {
   "cell_type": "code",
   "execution_count": null,
   "metadata": {},
   "outputs": [],
   "source": []
  },
  {
   "cell_type": "code",
   "execution_count": null,
   "metadata": {},
   "outputs": [],
   "source": []
  },
  {
   "cell_type": "code",
   "execution_count": null,
   "metadata": {},
   "outputs": [],
   "source": [
    "K = 2\n"
   ]
  },
  {
   "cell_type": "code",
   "execution_count": null,
   "metadata": {},
   "outputs": [],
   "source": [
    "plt.scatter(X[:, 0], X[:, 1], s=100)\n",
    "\n",
    "# draw lines from each point to its two nearest neighbors\n",
    "K = 2\n",
    "\n",
    "for i in range(X.shape[0]):\n",
    "    for j in nearest_partition[i, :]:\n",
    "        # plot a line from X[i] to X[j]\n",
    "        # use some zip magic to make it happen:\n",
    "        plt.plot(*zip(X[j], X[i]), color='black')"
   ]
  },
  {
   "cell_type": "code",
   "execution_count": null,
   "metadata": {},
   "outputs": [],
   "source": [
    "    "
   ]
  },
  {
   "cell_type": "code",
   "execution_count": null,
   "metadata": {},
   "outputs": [],
   "source": []
  },
  {
   "cell_type": "code",
   "execution_count": null,
   "metadata": {},
   "outputs": [],
   "source": []
  },
  {
   "cell_type": "markdown",
   "metadata": {
    "tags": []
   },
   "source": [
    "## Áp dụng Numpy để làm một ví dụ thực tế: recommender system "
   ]
  },
  {
   "cell_type": "code",
   "execution_count": null,
   "metadata": {},
   "outputs": [],
   "source": [
    "# Đọc file Ratings-Small.csv vào Numpy array\n",
    "# Trong file này:\n",
    "# - Mỗi cột ứng với một phim\n",
    "# - Mỗi dòng ứng với một người dùng, và cho biết người này đã\n",
    "#   cho mỗi phim bao nhiêu điểm (thang 1-5)\n",
    "ratings = np.genfromtxt('Data/Ratings-Small.csv',\n",
    "                        delimiter=',',\n",
    "                        skip_header=1)\n",
    "ratings"
   ]
  },
  {
   "cell_type": "markdown",
   "metadata": {},
   "source": [
    "Mục tiêu ở đây là dự đoán các giá trị thiếu của mỗi người dùng; từ đó, recommend cho người dùng các bộ phim mà ta dự đoán người dùng sẽ cho điểm cao.\n",
    "\n",
    "Để đơn giản, ở đây ta chỉ tập trung làm cho người dùng đầu tiên."
   ]
  },
  {
   "cell_type": "code",
   "execution_count": null,
   "metadata": {},
   "outputs": [],
   "source": [
    "np.set_printoptions(suppress=True) # Để numpy in dễ nhìn"
   ]
  },
  {
   "cell_type": "code",
   "execution_count": null,
   "metadata": {
    "scrolled": true
   },
   "outputs": [],
   "source": [
    "# Tính trọng số thể hiện cho độ tương tự giữa người dùng đầu tiên\n",
    "# với tất cả người dùng \n"
   ]
  },
  {
   "cell_type": "code",
   "execution_count": null,
   "metadata": {},
   "outputs": [],
   "source": [
    "# Lấy ra các cột ứng với các phim \n",
    "# mà người dùng đầu tiên chưa cho điểm\n"
   ]
  },
  {
   "cell_type": "code",
   "execution_count": null,
   "metadata": {},
   "outputs": [],
   "source": [
    "# Tính ma trận trọng số đã được chuẩn hóa \n",
    "# có cùng shape với kết quả ở trên\n",
    "# (tổng các cột sẽ bằng 1)\n"
   ]
  },
  {
   "cell_type": "code",
   "execution_count": null,
   "metadata": {},
   "outputs": [],
   "source": [
    "# Nhân điểm (rating) với trọng số đã chuẩn hóa rồi cộng lại\n",
    "# là sẽ ra điểm dự đoán cho người dùng đầu tiên\n"
   ]
  },
  {
   "cell_type": "markdown",
   "metadata": {},
   "source": [
    "Như vậy, ta có thể recommend cho người dùng đầu tiên phim có điểm dự đoán cao."
   ]
  }
 ],
 "metadata": {
  "kernelspec": {
   "display_name": "Python 3 (ipykernel)",
   "language": "python",
   "name": "python3"
  },
  "language_info": {
   "codemirror_mode": {
    "name": "ipython",
    "version": 3
   },
   "file_extension": ".py",
   "mimetype": "text/x-python",
   "name": "python",
   "nbconvert_exporter": "python",
   "pygments_lexer": "ipython3",
   "version": "3.9.18"
  },
  "toc": {
   "base_numbering": 1,
   "nav_menu": {},
   "number_sections": false,
   "sideBar": true,
   "skip_h1_title": false,
   "title_cell": "Table of Contents",
   "title_sidebar": "Contents",
   "toc_cell": false,
   "toc_position": {
    "height": "338.4px",
    "left": "140px",
    "top": "32.133px",
    "width": "165px"
   },
   "toc_section_display": true,
   "toc_window_display": false
  }
 },
 "nbformat": 4,
 "nbformat_minor": 4
}
