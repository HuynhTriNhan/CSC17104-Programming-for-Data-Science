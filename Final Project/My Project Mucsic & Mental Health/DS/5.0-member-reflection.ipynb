{
 "cells": [
  {
   "cell_type": "markdown",
   "metadata": {},
   "source": [
    "# 5. Phản ánh của các thành viên trong nhóm về đồ án"
   ]
  },
  {
   "cell_type": "markdown",
   "metadata": {},
   "source": [
    "<div style=\"border-radius: 10px; border: 2px solid #51F9F4; padding: 15px; background-color:#c2eeec; font-size: 100%; text-align: left;\">\n",
    "<font color=\"red\"><b>\n",
    "Tổng quát chung về đồ án\n",
    "</b></font>\n",
    "\n",
    "<font size=\"+1\" color=#215C67><b>\n",
    "Đô án nhập môn Khoa học dữ liệu giúp nhóm em học được nhưng bước đầu tiên về Khoa học dữ liệu. Việc phân tích dữ liệu phải trải qua các quá trình: \n",
    "- 1. Chọn dữ liệu và định hình vấn đề\n",
    "- 2. Thu thập dữ liệu\n",
    "- 3. Làm sạch dữ liệu bằng các phương pháp: Kiểm tra  bằng các phương pháp thống kê, xử lý dữ liệu bị trùng lặp, xử lý dữ liệu bị sai lệch, xử lý dữ liệu bị không đồng nhất.\n",
    "- 4. Khám phá dữ liệu: Hiểu từng thuộc tính của dữ liệu bằng các phương pháp trực quan hóa dữ liệu, phân tích mối quan hệ giữa các thuộc tính.\n",
    "- 5. Giải quyết vấn đề đặt ra ban đầu bằng các phương pháp nghiên cứu sâu vào bộ dũ liệu. Trực quan hóa dữ liệu bằng các công cụ Python.\n",
    "- 6. Cách làm việc nhóm cùng nhau hiệu quả.\n",
    "- 7. Cách sử dụng công cụ làm việc nhóm, quản lý source code như Github, Notion.\n",
    "- 8. Cách trình bày báo cáo đồ án Khoa học dữ liệu đầu tiên.\n",
    "\n",
    "Qua môn môn học và đồ án này chúng em học được cách sử dụng những công cụ mới cho chuyên ngành Khoa học dữ liệu: Python(với nhiều thư viện: Pandas, Numpy, Matplotlin, seaborn,...), Jupyter Notebook, Github để quản lý Version Control\n",
    "\n",
    "- Nếu có thêm thời gian: chúng mong muốn áp dụng những mô hình học máy để dựa vào dữ liệu để dự đoán kết quả sức khỏe tinh thần của mọi người. Từ đó có thể đưa ra các giải pháp giúp cải thiện sức khỏe tinh thần của mọi người một cách sóm nhất và kịp thời.\n",
    "\n",
    "\n",
    "Bên cạnh đó, chúng em còn những khó khăn trong quá trình nghiên cứu và khám phá bộ môn Khoa học dữ liệu:\n",
    "</b></font>\n",
    "\n",
    "\n",
    "\n",
    "\n",
    "</div>"
   ]
  },
  {
   "cell_type": "markdown",
   "metadata": {},
   "source": [
    "\n",
    "<div style=\"border-radius: 10px; border: 2px solid #51F9F4; padding: 15px; background-color:#c2eeec; font-size: 100%; text-align: left;\">\n",
    "<font color=\"red\"><b>\n",
    "21120247 - Nguyễn Văn Quang Hưng\n",
    "</b></font>\n",
    "\n",
    "<font size=\"+1\" color=#215C67><b>\n",
    "- Những điều học được:\n",
    "    - Các để tự làm một nghiên cứu Khoa học dữ liệu hoàn chỉnh từ bước thu thập dữ liệu, tiền xử lí dữ liệu cho đến khám phá và đặt câu hỏi.\n",
    "    - Cách làm việc nhóm, tự lên kế hoạch và phân công công việc sao cho phù hợp.\n",
    "    - Cách sử dụng Github để phối hợp làm nhóm.\n",
    "- Những khó khăn:\n",
    "    - Khó tìm được bộ dữ liệu phù hợp với định hướng của nhóm.\n",
    "    - Bộ dữ liệu có nhiều thuộc tính nhưng trùng tính chất khá nhiều dẫn đến việc khó khai thác sâu để đặt được những câu hỏi có ý nghĩa hơn.\n",
    "    - Chưa tìm được cách dùng âm nhạc để giải quyết các vấn đề tâm lý như mục địch ban đầu đặt ra cho đồ án.\n",
    "</b></font>\n",
    "\n",
    "\n",
    "\n",
    "\n",
    "</div>"
   ]
  },
  {
   "cell_type": "markdown",
   "metadata": {},
   "source": [
    "\n",
    "<div style=\"border-radius: 10px; border: 2px solid #51F9F4; padding: 15px; background-color:#c2eeec; font-size: 100%; text-align: left;\">\n",
    "<font color=\"red\"><b>\n",
    "21120298 - Chiêm Bỉnh Nguyên\n",
    "</b></font>\n",
    "\n",
    "<font size=\"+1\" color=#215C67><b>\n",
    "- Những điều học được:\n",
    "    - Kĩ năng làm nhóm\n",
    "    - Cách làm một bài nghiên cứu Khoa học dữ liệu hoàn chỉnh\n",
    "    - Các kiến thức về thống kê, khai thác dữ liệu\n",
    "    - Cách sử dụng Github\n",
    "- Những khó khăn:\n",
    "    - Bộ dữ liệu có nhiều thuộc tính có cùng tính chất, khó đào sâu để khai thác, đặt câu hỏi\n",
    "    - Vì đây là bộ dữ liệu public, được sử dụng, khai thác bởi nhiều người nên gây khó khăn trong việc tìm hướng đi mới cho nhóm.\n",
    "</b></font>\n",
    "\n",
    "\n",
    "\n",
    "\n",
    "</div>"
   ]
  },
  {
   "cell_type": "markdown",
   "metadata": {},
   "source": [
    "\n",
    "<div style=\"border-radius: 10px; border: 2px solid #51F9F4; padding: 15px; background-color:#c2eeec; font-size: 100%; text-align: left;\">\n",
    "<font color=\"red\"><b>\n",
    "21120302 - Huỳnh Trí Nhân\n",
    "</b></font>\n",
    "\n",
    "<font size=\"+1\" color=#215C67><b>\n",
    "- Những điều học được: \n",
    "  - Một quy trình Khoa học đơn giản hoàn chỉnh.\n",
    "  - Các sử dụng những công cụ Python để xử lý dữ liệu và Khám phá dữ liệu.\n",
    "  - Đặt những câu hỏi và tìm kiếm câu trả lời cho những câu hỏi đó bằng nhiều phương pháp khác nhau \"Tìm kiếm trên Google, Stackoverflow, Youtube,..\"\n",
    "  - Cách làm việc nhóm hiệu quả.\n",
    "\n",
    "- Những khó khăn: \n",
    "  - Trong phần tiền xử lý dữ liệu, nhóm em gặp khó khăn trong việc xử lý dữ liệu bị sai lệch, dữ liệu bị không đồng nhất. \n",
    "  - Liệu rằng với gần 30 cột dữ liệu nhưng Frequency cho từng thể loại nhạc chiếm hơn một nửa, vậy liệu có cách nào giảm chiều dữ liệu lại không?\n",
    "  - Trong phần Hỏi và Trả lời, tuy trình bày nhều câu hỏi nhưng dường như chưa tìm ra cách giải quyết cho các vấn đề tâm lý ấy.\n",
    "\n",
    "</b></font>\n",
    "\n",
    "\n",
    "\n",
    "\n",
    "</div>"
   ]
  }
 ],
 "metadata": {
  "language_info": {
   "name": "python"
  }
 },
 "nbformat": 4,
 "nbformat_minor": 2
}
